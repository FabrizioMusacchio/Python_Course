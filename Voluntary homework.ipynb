{
 "cells": [
  {
   "cell_type": "markdown",
   "id": "bda18715",
   "metadata": {
    "toc": true
   },
   "source": [
    "<h1>Voluntary homework<span class=\"tocSkip\"></span></h1>\n",
    "<div class=\"toc\"><ul class=\"toc-item\"><li><span><a href=\"#Exercise-1-(&quot;starter&quot;)\" data-toc-modified-id=\"Exercise-1-(&quot;starter&quot;)-1\"><span class=\"toc-item-num\">1&nbsp;&nbsp;</span>Exercise 1 (\"<em>starter</em>\")</a></span></li><li><span><a href=\"#Exercise-2-(lists)\" data-toc-modified-id=\"Exercise-2-(lists)-2\"><span class=\"toc-item-num\">2&nbsp;&nbsp;</span>Exercise 2 (lists)</a></span></li><li><span><a href=\"#Exercise-3-(using-the-script)\" data-toc-modified-id=\"Exercise-3-(using-the-script)-3\"><span class=\"toc-item-num\">3&nbsp;&nbsp;</span>Exercise 3 (using the script)</a></span></li><li><span><a href=\"#Exercise-4-(dictionaries)\" data-toc-modified-id=\"Exercise-4-(dictionaries)-4\"><span class=\"toc-item-num\">4&nbsp;&nbsp;</span>Exercise 4 (dictionaries)</a></span></li><li><span><a href=\"#Exercise-5-(for-loops-and-if-statements)\" data-toc-modified-id=\"Exercise-5-(for-loops-and-if-statements)-5\"><span class=\"toc-item-num\">5&nbsp;&nbsp;</span>Exercise 5 (<em>for</em>-loops and <em>if</em>-statements)</a></span></li><li><span><a href=\"#Exercise-6-(for-loops-and-the-enumerate-function)\" data-toc-modified-id=\"Exercise-6-(for-loops-and-the-enumerate-function)-6\"><span class=\"toc-item-num\">6&nbsp;&nbsp;</span>Exercise 6 (<em>for</em>-loops and the <code>enumerate</code> function)</a></span></li><li><span><a href=\"#Exercise-7-(for-loops-and-lists)\" data-toc-modified-id=\"Exercise-7-(for-loops-and-lists)-7\"><span class=\"toc-item-num\">7&nbsp;&nbsp;</span>Exercise 7 (<em>for</em>-loops and lists)</a></span></li><li><span><a href=\"#Exercise-8-(for-loops)\" data-toc-modified-id=\"Exercise-8-(for-loops)-8\"><span class=\"toc-item-num\">8&nbsp;&nbsp;</span>Exercise 8 (<em>for</em>-loops)</a></span></li><li><span><a href=\"#Exercise-9-(functions)\" data-toc-modified-id=\"Exercise-9-(functions)-9\"><span class=\"toc-item-num\">9&nbsp;&nbsp;</span>Exercise 9 (functions)</a></span></li><li><span><a href=\"#Exercise-10-(functions)\" data-toc-modified-id=\"Exercise-10-(functions)-10\"><span class=\"toc-item-num\">10&nbsp;&nbsp;</span>Exercise 10 (functions)</a></span></li><li><span><a href=\"#Exercise-11-(functions)\" data-toc-modified-id=\"Exercise-11-(functions)-11\"><span class=\"toc-item-num\">11&nbsp;&nbsp;</span>Exercise 11 (functions)</a></span></li><li><span><a href=\"#Exercise-12-(functions)\" data-toc-modified-id=\"Exercise-12-(functions)-12\"><span class=\"toc-item-num\">12&nbsp;&nbsp;</span>Exercise 12 (functions)</a></span></li><li><span><a href=\"#Exercise-13-(deep-copy)\" data-toc-modified-id=\"Exercise-13-(deep-copy)-13\"><span class=\"toc-item-num\">13&nbsp;&nbsp;</span>Exercise 13 (deep copy)</a></span></li><li><span><a href=\"#Exercise-14-(data-I/O)\" data-toc-modified-id=\"Exercise-14-(data-I/O)-14\"><span class=\"toc-item-num\">14&nbsp;&nbsp;</span>Exercise 14 (data I/O)</a></span></li><li><span><a href=\"#Exercise-15-(NumPy)\" data-toc-modified-id=\"Exercise-15-(NumPy)-15\"><span class=\"toc-item-num\">15&nbsp;&nbsp;</span>Exercise 15 (<em>NumPy</em>)</a></span></li></ul></div>"
   ]
  },
  {
   "cell_type": "markdown",
   "id": "a6cebb64",
   "metadata": {},
   "source": [
    "The following exercises are voluntary and cover the content of the first part of this course. **All exercises are considered to be solved in the _Spyder_ editor in separate scripts.**"
   ]
  },
  {
   "cell_type": "markdown",
   "id": "09a0ad96",
   "metadata": {},
   "source": [
    "## Exercise 1 (\"_starter_\")\n",
    "1. As a \"_starter_\", please play around with the following operators in the _Spyder_ console. Apply the operators to numbers directly, but also work with variables. \n",
    "\n",
    "| Operator             | Description                     |\n",
    "|:--------------------|:--------------------------------|\n",
    "| `+`, `-`, `*`, `/`   | addition, subtraction, multiplication, division  |\n",
    "| `//`                 | integer division                |\n",
    "| `%`                  | modulo (“rest“ of a division)   |\n",
    "| `-x`, `+x`           | sign                            |\n",
    "| `**`                 | exponentiation                  |\n",
    "\n",
    "\n",
    "| Operator             | Description                       |\n",
    "|:---------------------|:----------------------------------|\n",
    "| `<`, `>`, `<=`, `>=` | comparison operators _is smaller/equal? bigger/equal?_ |\n",
    "| `==`                 | comparison operator _is equal?_   |\n",
    "| `!=`                 | comparison operator _is not equal?_ |\n",
    "| `or`, `and`, `not`   | boolean comparison operators      |\n",
    "| `in`                 | _is element of?_                  |"
   ]
  },
  {
   "cell_type": "markdown",
   "id": "6f982b05",
   "metadata": {},
   "source": [
    "## Exercise 2 (lists)\n",
    "1. Create two lists `A` and `B`, with `A` containing the numbers 7,  8,  9, and `B` containing the numbers 17, 18, 19.\n",
    "2. Apply to the second element of `A` and the third element of `B` some of the operators listed above.\n",
    "3. Use the built-in _Python_ command `sum()` to calculate and print the sum of `A`and `B`, respectively."
   ]
  },
  {
   "cell_type": "code",
   "execution_count": 7,
   "id": "774ecb46",
   "metadata": {},
   "outputs": [
    {
     "name": "stdout",
     "output_type": "stream",
     "text": [
      "sum of A: 24\n",
      "sum of B: 54\n"
     ]
    }
   ],
   "source": [
    "# example solution output:"
   ]
  },
  {
   "cell_type": "markdown",
   "id": "840ed74b",
   "metadata": {},
   "source": [
    "<details>\n",
    "<summary><strong>Toggle solution</strong></summary>\n",
    "\n",
    "~~~python\n",
    "# Solution 2:\n",
    "A = [  7,  8,  9]\n",
    "B = [ 17, 18, 19]\n",
    "print(f\"sum of A: {sum(A)}\")\n",
    "print(f\"sum of B: {sum(B)}\")\n",
    "~~~\n",
    "<script src=\"https://gist.github.com/username/a39a422ebdff6e732753b90573100b16.js\"></script>\n",
    "</details>"
   ]
  },
  {
   "cell_type": "markdown",
   "id": "d37ae3c6",
   "metadata": {},
   "source": [
    "## Exercise 3 (using the script)\n",
    "In this exercise we recap Chapter 7: _for loops_ and train the scripting with the _Spyder_ editor.\n",
    "\n",
    "1. In the _Spyder_ editor, create a new _Python_ script, e.g., called `for_loops.py`.\n",
    "2. Transfer your or the given solution of [Exercise 1](https://www.fabriziomusacchio.com/teaching/python_course/05_for_loops#exercise-1) into that script. Put the solution into its own [cell](https://www.fabriziomusacchio.com/teaching/python_course/02_python_ide#code-cells).\n",
    "3. Do the same for [Exercise 2](https://www.fabriziomusacchio.com/teaching/python_course/05_for_loops#exercise-2) and the \"_Example with enumerate command_\" of [Section 3 _The enumerate function_](https://www.fabriziomusacchio.com/teaching/python_course/05_for_loops#the-enumerate-function).\n",
    "4. Run your script at once and each cell individually. "
   ]
  },
  {
   "cell_type": "markdown",
   "id": "06be14cd",
   "metadata": {},
   "source": [
    "## Exercise 4 (dictionaries)\n",
    "1. Create a new script in the _Spyder_ editor.\n",
    "1. Define the dictionary `mouse` as presented in [Chapter 4 _Variables_](https://www.fabriziomusacchio.com/teaching/python_course/04_variables#dictionaries).\n",
    "2. Expand `mouse` by the new key \"owner\". Set as value your name.  \n",
    "    Note: You don't have to redefine the entire dictionary. You can add any new entry by `mouse[\"new key\"]=value`.\n",
    "3. Add another entry \"blood pressure\" with values 80, 75, 95, 180.\n",
    "4. Instead of printing out the value of each key manually, write a _for_-loop, that iterates over all keys and prints out the corresponding value.  \n",
    "    Hint: With `mouse.keys()` you get an iterable list of all keys (=sequence).\n",
    "5. Create a `mouse2` dictionary by performing the same steps as in 1. This time, set the age to 38, the ID to 38979 and the weight to 37. Calculate the average age of both mice."
   ]
  },
  {
   "cell_type": "code",
   "execution_count": 6,
   "id": "bc15d0c9",
   "metadata": {},
   "outputs": [
    {
     "name": "stdout",
     "output_type": "stream",
     "text": [
      "SOLUTION 4.2-4.3:\n",
      "{'ID': 45768,\n",
      " 'MWM_scores': [59, 50, 40, 27, 14, 11],\n",
      " 'age': 42,\n",
      " 'owner': 'My Name is Fabrizio',\n",
      " 'sex': 'male',\n",
      " 'weight': 36}\n",
      "\n",
      "SOLUTION 4.4:\n",
      "{'ID': 45768,\n",
      " 'MWM_scores': [59, 50, 40, 27, 14, 11],\n",
      " 'age': 42,\n",
      " 'blood pressure': [80, 75, 95, 180],\n",
      " 'owner': 'My Name is Fabrizio',\n",
      " 'sex': 'male',\n",
      " 'weight': 36}\n",
      "\n",
      "SOLUTION 4.5:\n",
      "ID: 45768\n",
      "age: 42\n",
      "sex: male\n",
      "weight: 36\n",
      "MWM_scores: [59, 50, 40, 27, 14, 11]\n",
      "owner: My Name is Fabrizio\n",
      "blood pressure: [80, 75, 95, 180]\n",
      "\n",
      "SOLUTION 4.6:\n",
      "40.0\n"
     ]
    }
   ],
   "source": [
    "# example solution output:"
   ]
  },
  {
   "cell_type": "markdown",
   "id": "d20d149a",
   "metadata": {},
   "source": [
    "<details>\n",
    "<summary><strong>Toggle solution</strong></summary>\n",
    "\n",
    "~~~python\n",
    "from pprint import pprint as pprint\n",
    "# %% SOLUTION 4.2-4.3\n",
    "# mouse-dictionary from the lecture:\n",
    "mouse = {'ID': 45768,\n",
    "         'age': 42,\n",
    "         'sex': \"male\",\n",
    "         'weight': 36,\n",
    "         'MWM_scores': [59, 50, 40, 27, 14, 11]}\n",
    "mouse['owner'] = 'My Name is Fabrizio'\n",
    "print(f\"SOLUTION 4.2-4.3:\")\n",
    "pprint(mouse)\n",
    "\n",
    "# %% SOLUTION 4.4\n",
    "mouse['blood pressure'] = [80, 75, 95, 180]\n",
    "print(f\"\\nSOLUTION 4.4:\")\n",
    "pprint(mouse)\n",
    "    \n",
    "# %% SOLUTION 4.5\n",
    "print(f\"\\nSOLUTION 4.5:\")\n",
    "for key in mouse.keys():\n",
    "    print(f\"{key}: {mouse[key]}\")\n",
    "    \n",
    "# %% SOLUTION 4.6\n",
    "mouse2 = {'ID': 38979,\n",
    "          'age': 38,\n",
    "          'sex': 'male',\n",
    "          'weight': 37,\n",
    "          'MWM_scores': [59, 40, 27, 14, 11]}\n",
    "print(f\"\\nSOLUTION 4.6:\")\n",
    "print((mouse['age'] + mouse2['age'])/2)\n",
    "~~~\n",
    "</details>"
   ]
  },
  {
   "cell_type": "markdown",
   "id": "120fe3bd",
   "metadata": {},
   "source": [
    "## Exercise 5 (_for_-loops and _if_-statements)\n",
    "Given the list `agents=[\"James Bond (007)\", \"Austin Powers (007)\", \"Hubert Bonisseur, (117)\"]`,  write a _for_-loop, that iterates over each of its elements and checks, if the current agent has a 007-license. Again, create a new _Spyder_ script with an appropriate name for your solution."
   ]
  },
  {
   "cell_type": "code",
   "execution_count": 2,
   "id": "be902c49",
   "metadata": {},
   "outputs": [
    {
     "name": "stdout",
     "output_type": "stream",
     "text": [
      "James Bond (007)\n",
      "match! James Bond (007) has a 007 license.\n",
      "Austin Powers (007)\n",
      "match! Austin Powers (007) has a 007 license.\n",
      "Hubert Bonisseur, (117)\n",
      "warning! Hubert Bonisseur, (117) has no 007 license!\n"
     ]
    }
   ],
   "source": [
    "# example solution output:"
   ]
  },
  {
   "cell_type": "markdown",
   "id": "62e6bba7",
   "metadata": {},
   "source": [
    "<details>\n",
    "<summary><strong>Toggle solution</strong></summary>\n",
    "\n",
    "~~~python\n",
    "# Solution 5\n",
    "my_agents_list=[\"James Bond (007)\", \"Austin Powers (007)\", \n",
    "        \"Hubert Bonisseur, (117)\"]\n",
    "string_to_check = \"007\"\n",
    "for current_agent in my_agents_list:\n",
    "    print(current_agent)\n",
    "    if string_to_check in current_agent:\n",
    "        print(f\"match! {current_agent} has a \"\n",
    "              f\"{string_to_check} license.\")\n",
    "    else:\n",
    "        print(f\"warning! {current_agent} has \"\n",
    "              f\"no {string_to_check} license!\")\n",
    "~~~\n",
    "</details>"
   ]
  },
  {
   "cell_type": "markdown",
   "id": "1ce1be69",
   "metadata": {},
   "source": [
    "## Exercise 6 (_for_-loops and the `enumerate` function)\n",
    "Chapter 5 _for loops_ contains a section about creating a _for_-loop via the [`enumerate` function](https://www.fabriziomusacchio.com/teaching/python_course/05_for_loops#the-enumerate-function).\n",
    "\n",
    "1. Please, read this section.\n",
    "2. Create a new script in the _Spyder_ editor.\n",
    "3. Create a number list `number_list` that ranges from 3 to 13 in the step-size of 1.  \n",
    "    Hint: Use the `range()` and `list()` command.\n",
    "4. Write a _for_-loop, that iterates over `number_list` and prints out each element entry-by-entry and its accoriding index, by using the `enumerate` function."
   ]
  },
  {
   "cell_type": "code",
   "execution_count": 9,
   "id": "b6357afe",
   "metadata": {
    "scrolled": true
   },
   "outputs": [
    {
     "name": "stdout",
     "output_type": "stream",
     "text": [
      "number_list: [3, 4, 5, 6, 7, 8, 9, 10, 11, 12]\n",
      "the length of number_list: 10\n",
      "\n",
      "index 0 has the value 3\n",
      "index 1 has the value 4\n",
      "index 2 has the value 5\n",
      "index 3 has the value 6\n",
      "index 4 has the value 7\n",
      "index 5 has the value 8\n",
      "index 6 has the value 9\n",
      "index 7 has the value 10\n",
      "index 8 has the value 11\n",
      "index 9 has the value 12\n"
     ]
    }
   ],
   "source": [
    "# example solution output:"
   ]
  },
  {
   "cell_type": "markdown",
   "id": "12b5b45f",
   "metadata": {},
   "source": [
    "<details>\n",
    "<summary><strong>Toggle solution</strong></summary>\n",
    "\n",
    "~~~python\n",
    "# Solution 6:\n",
    "number_list = list(range(3,13,1))\n",
    "print(f\"number_list: {number_list}\")\n",
    "print(f\"the length of number_list: {len(number_list)}\")\n",
    "print(\"\")\n",
    "\n",
    "for counter, value in enumerate(number_list):\n",
    "    print(f\"index {counter} has the value {value}\")\n",
    "~~~\n",
    "</details>"
   ]
  },
  {
   "cell_type": "markdown",
   "id": "45852f2c",
   "metadata": {},
   "source": [
    "## Exercise 7 (_for_-loops and lists)\n",
    "1. Create a new script in the _Spyder_ editor.\n",
    "2. Define the two lists:\n",
    "    ~~~py\n",
    "A = [101, 102, 103, 104]\n",
    "B = [ 10,  12,  13,  14]\n",
    "    ~~~\n",
    "3. Write a _for_-loop that iterates over the range of the length of one of the two lists. Inside the loop, print out the iterative result of the element-by-element multiplication of `A` and `B`.\n",
    "\n"
   ]
  },
  {
   "cell_type": "code",
   "execution_count": 13,
   "id": "75b44bbb",
   "metadata": {},
   "outputs": [
    {
     "name": "stdout",
     "output_type": "stream",
     "text": [
      "i=0: A_i*B_i = 1010\n",
      "i=1: A_i*B_i = 1224\n",
      "i=2: A_i*B_i = 1339\n",
      "i=3: A_i*B_i = 1456\n"
     ]
    }
   ],
   "source": [
    "# example solution output:"
   ]
  },
  {
   "cell_type": "markdown",
   "id": "dc0da46a",
   "metadata": {},
   "source": [
    "<details>\n",
    "<summary><strong>Toggle solution</strong></summary>\n",
    "\n",
    "~~~python\n",
    "# Solution 7:\n",
    "A = [101, 102, 103, 104]\n",
    "B = [ 10,  12,  13,  14]\n",
    "\n",
    "for i in range(len(A)):\n",
    "    print(f\"i={i}: A_i*B_i = {A[i] * B[i]}\")\n",
    "~~~\n",
    "</details>"
   ]
  },
  {
   "cell_type": "markdown",
   "id": "34cfabb4",
   "metadata": {},
   "source": [
    "## Exercise 8 (_for_-loops)\n",
    "Given the list `number_list_1=[4, 8, 12, 16, 20, 24, 28, 32]`, write in new _Spyder_ script that prints out only elements of `number_list_1` at even index positions."
   ]
  },
  {
   "cell_type": "code",
   "execution_count": 21,
   "id": "4e4a5059",
   "metadata": {},
   "outputs": [
    {
     "name": "stdout",
     "output_type": "stream",
     "text": [
      "index: 0 (even) --> number 4\n",
      "index: 2 (even) --> number 12\n",
      "index: 4 (even) --> number 20\n",
      "index: 6 (even) --> number 28\n"
     ]
    }
   ],
   "source": [
    "# example solution output:"
   ]
  },
  {
   "cell_type": "markdown",
   "id": "a8973d30",
   "metadata": {},
   "source": [
    "<details>\n",
    "<summary><strong>Toggle solution</strong></summary>\n",
    "\n",
    "~~~python\n",
    "# Solution 8:\n",
    "number_list_1=[4, 8, 12, 16, 20, 24, 28, 32]\n",
    "N = len(number_list_1)\n",
    "for index in range(0,N,2):\n",
    "    print(f\"index: {index} (even) --> number {number_list_1[index]}\")\n",
    "~~~\n",
    "</details>"
   ]
  },
  {
   "cell_type": "markdown",
   "id": "54188303",
   "metadata": {},
   "source": [
    "## Exercise 9 (functions)\n",
    "Write a function `print_name`, that prints out a given input name."
   ]
  },
  {
   "cell_type": "code",
   "execution_count": 18,
   "id": "091628fb",
   "metadata": {},
   "outputs": [
    {
     "name": "stdout",
     "output_type": "stream",
     "text": [
      "The input name is: Fabrizio.\n"
     ]
    }
   ],
   "source": [
    "# example solution output:"
   ]
  },
  {
   "cell_type": "markdown",
   "id": "a11e4005",
   "metadata": {},
   "source": [
    "<details>\n",
    "<summary><strong>Toggle solution</strong></summary>\n",
    "\n",
    "~~~python\n",
    "# Solution 9:\n",
    "def print_name(string):\n",
    "    print(f\"The input name is: {string}.\")\n",
    "print_name(string=\"Fabrizio\")\n",
    "~~~\n",
    "</details>"
   ]
  },
  {
   "cell_type": "markdown",
   "id": "acbf7360",
   "metadata": {},
   "source": [
    "## Exercise 10 (functions)\n",
    "Given the list `number_list_0=[4, 8, 3, 9]`, write a function `my_average(input_list)` (again, in a new script), that calculates and prints its average \n",
    "\n",
    "$$ \\mu = \\frac{1}{N} \\sum_{i=1}^N x_i $$\n",
    "    \n",
    "with $x_i$ the individual elements of `number_list_0`.\n",
    "    \n",
    "Hints: \n",
    "- Use the `len()` command to determine the number of elements ($N$);\n",
    "- To calculate the sum, use a _for_-loop; within the _for_-loop, update a dummy _sum_ variable (e.g., `sum_runner`) for every iteration (e.g., `sum_runner = sum_runner + \"new_value\"`); if you want to use this approach, you have to pre-initialize `sum_runner = 0` before the loop."
   ]
  },
  {
   "cell_type": "code",
   "execution_count": 14,
   "id": "153ab7b7",
   "metadata": {},
   "outputs": [
    {
     "name": "stdout",
     "output_type": "stream",
     "text": [
      "mean: 6.0\n"
     ]
    }
   ],
   "source": [
    "# example solution output:"
   ]
  },
  {
   "cell_type": "markdown",
   "id": "3d18642a",
   "metadata": {},
   "source": [
    "<details>\n",
    "<summary><strong>Toggle solution</strong></summary>\n",
    "\n",
    "~~~python\n",
    "# Solution 10:\n",
    "number_list_0 = [4, 8, 3, 9]\n",
    "\n",
    "def my_average(input_list):\n",
    "    N  = len(input_list)\n",
    "    sum_runner = 0\n",
    "    for i in range(N):\n",
    "        sum_runner +=  input_list[i]\n",
    "        # this is similar to: \n",
    "        # sum_runner = sum_runner + number_list_0[i]\n",
    "\n",
    "    mu = sum_runner/N\n",
    "    print(f\"mean: {mu}\")\n",
    "\n",
    "my_average(number_list_0)\n",
    "~~~\n",
    "</details>"
   ]
  },
  {
   "cell_type": "markdown",
   "id": "a6c7cf2f",
   "metadata": {},
   "source": [
    "## Exercise 11 (functions)\n",
    "Write a function `product`, that multiplies all numbers of a given number list. Apply your function to the list `list1=[4, 8, 12, 16, 20, 32, 28, 24, -1]`."
   ]
  },
  {
   "cell_type": "code",
   "execution_count": 15,
   "id": "ce4d2668",
   "metadata": {},
   "outputs": [
    {
     "name": "stdout",
     "output_type": "stream",
     "text": [
      "2642411520\n"
     ]
    }
   ],
   "source": [
    "# example solution output:"
   ]
  },
  {
   "cell_type": "markdown",
   "id": "05a8fc25",
   "metadata": {},
   "source": [
    "<details>\n",
    "<summary><strong>Toggle solution</strong></summary>\n",
    "\n",
    "~~~python\n",
    "# Solution 11:\n",
    "def product(inputlist):\n",
    "    \"\"\"Calculates the product of a given number-list\"\"\"\n",
    "    result = 1 # we need an initialization of the later \n",
    "               # result variable\n",
    "    for index in range(0, len(inputlist)):\n",
    "        result = result * inputlist[index]\n",
    "    return result\n",
    "\n",
    "list1=[4, 8, 12, 16, 20, 32, 28, -24, -1]\n",
    "print(product(list1))\n",
    "~~~\n",
    "</details>"
   ]
  },
  {
   "cell_type": "markdown",
   "id": "559c8dd2",
   "metadata": {},
   "source": [
    "## Exercise 12 (functions)\n",
    "Write a function `calc_max`, that finds the maximum value and it index of a given list. Apply your function to the list defined in Exercise 11."
   ]
  },
  {
   "cell_type": "code",
   "execution_count": 28,
   "id": "c3b74d6d",
   "metadata": {},
   "outputs": [
    {
     "name": "stdout",
     "output_type": "stream",
     "text": [
      "the maximum of [4, 8, 12, 16, 20, 32, 28, -24, -1] is 32 at index 5\n"
     ]
    }
   ],
   "source": [
    "# example solution output:"
   ]
  },
  {
   "cell_type": "markdown",
   "id": "ea5780b0",
   "metadata": {},
   "source": [
    "<details>\n",
    "<summary><strong>Toggle solution</strong></summary>\n",
    "\n",
    "~~~python\n",
    "# Solution 12:\n",
    "list1=[4, 8, 12, 16, 20, 32, 28, -24, -1]\n",
    "def calc_max(inputlist):\n",
    "    current_max = inputlist[0]\n",
    "    index_of_max = 0\n",
    "    for index in range(1,len(inputlist)):\n",
    "        if inputlist[index] > current_max:\n",
    "            current_max = inputlist[index]\n",
    "            index_of_max = index\n",
    "    return current_max, index_of_max\n",
    "\n",
    "maximum, maximum_index =  calc_max(inputlist = list1)\n",
    "print(f\"the maximum of {list1} is {maximum} at index {maximum_index}\")\n",
    "~~~\n",
    "</details>"
   ]
  },
  {
   "cell_type": "markdown",
   "id": "88af6d4e",
   "metadata": {},
   "source": [
    "## Exercise 13 (deep copy)\n",
    "Given the list `A = [9, 27, 1, 8, 77]`. Create a deep copy of `A` into a new variable called `B`. Verify that your deep copy worked by changing the 3rd entry in `A` to `-80` and printing out `B` (that still shoudl show the initial defintion of `A`)."
   ]
  },
  {
   "cell_type": "code",
   "execution_count": 30,
   "id": "104ed119",
   "metadata": {},
   "outputs": [
    {
     "name": "stdout",
     "output_type": "stream",
     "text": [
      "initial A: [9, 27, 1, 8, 77]\n",
      "created B: [9, 27, 1, 8, 77]\n",
      "A after modifying A: [9, 27, -80, 8, 77]\n",
      "B after modifying A: [9, 27, 1, 8, 77]\n"
     ]
    }
   ],
   "source": [
    "# example solution output:"
   ]
  },
  {
   "cell_type": "markdown",
   "id": "b48ef54b",
   "metadata": {},
   "source": [
    "<details>\n",
    "<summary><strong>Toggle solution</strong></summary>\n",
    "\n",
    "~~~python\n",
    "# Solution 13:\n",
    "from copy import deepcopy\n",
    "A = [9, 27, 1, 8, 77]\n",
    "print(f\"initial A: {A}\")\n",
    "B = deepcopy(A)\n",
    "print(f\"created B: {B}\")\n",
    "A[2] = -80\n",
    "print(f\"A after modifying A: {A}\")\n",
    "print(f\"B after modifying A: {B}\")\n",
    "~~~\n",
    "</details>"
   ]
  },
  {
   "cell_type": "markdown",
   "id": "ed86c6bf",
   "metadata": {},
   "source": [
    "<br><br>\n",
    "The following exercises cover the content of part 2 of this course and can be voluntary solved after the  course' end."
   ]
  },
  {
   "cell_type": "markdown",
   "id": "f81ffa1f",
   "metadata": {},
   "source": [
    "## Exercise 14 (data I/O)\n",
    "1. Please visit this [cheat sheet](https://www.fabriziomusacchio.com/teaching/python_cheat_sheets/python_data_io) on _Python Data I/O function_ and read the section about _Built-in Python I/O functions_.\n",
    "2. Write a script, that generates a new text file in write mode (`w`).\n",
    "3. Iterate over the number 0 to 10 and write them line-by-line into the newly created file.  \n",
    "    Hint: Use the `str()` command to convert an integer (or float) number into a string (if necessary). Also, use `\\n` within the `print()` command to force a line break after each entry input.\n",
    "4. Save your results appropriately by closing the newly generate text file.\n",
    "5. Re-open the text file in read mode (`r`).\n",
    "6. Write a _for_ loop, that iterates over each line within the text file and prints out each individual entry. \n",
    "7. Don't forget to close your file at the end."
   ]
  },
  {
   "cell_type": "code",
   "execution_count": 46,
   "id": "37b7abe9",
   "metadata": {},
   "outputs": [
    {
     "name": "stdout",
     "output_type": "stream",
     "text": [
      "0\n",
      "\n",
      "1\n",
      "\n",
      "2\n",
      "\n",
      "3\n",
      "\n",
      "4\n",
      "\n",
      "5\n",
      "\n",
      "6\n",
      "\n",
      "7\n",
      "\n",
      "8\n",
      "\n",
      "9\n",
      "\n",
      "10\n",
      "\n"
     ]
    }
   ],
   "source": [
    "# example solution output:"
   ]
  },
  {
   "cell_type": "markdown",
   "id": "5633d539",
   "metadata": {},
   "source": [
    "<details>\n",
    "<summary><strong>Toggle solution</strong></summary>\n",
    "\n",
    "~~~python\n",
    "# Solution 14:\n",
    "filename = 'my_data_file.txt'\n",
    "file_object = open(filename, mode='w')\n",
    "for i in range(11):\n",
    "    file_object.write(f\"{str(i)}\\n\")\n",
    "file_object.close()\n",
    "\n",
    "file_object = open(filename, mode='r')\n",
    "N_lines = len(file_object.readlines())\n",
    "file_object.seek(0) \n",
    "for line in range(N_lines):\n",
    "    print(file_object.readline())\n",
    "file_object.close()\n",
    "~~~\n",
    "</details>"
   ]
  },
  {
   "cell_type": "markdown",
   "id": "3829dedf",
   "metadata": {},
   "source": [
    "## Exercise 15 (_NumPy_)\n",
    "Given the _NumPy_ array `A`,\n",
    "    \n",
    "~~~python\n",
    "A = np.array([np.arange(0,3,1)]*5,dtype='float16'),\n",
    "~~~\n",
    "\n",
    "write a script that\n",
    "    \n",
    "1. prints out its shape,\n",
    "2. prints out all entries of column 1 and 2, separately and at once,\n",
    "3. overwrites the values of column 1 by the sum of the values of  columns 2 and 3,\n",
    "4. replaces the entry of row 1, column 3 with its exponentiation with the factor 2,  \n",
    "    Hint: `x**2`.\n",
    "5. replaces the entry of row 2, column 3 with the square root of the entry of row 2, column 0,  \n",
    "    Hint: Please find the _NumPy_ function for calculating the square root in the [_Useful NumPy functions_ list](https://www.fabriziomusacchio.com/teaching/python_course/10_numpy#useful-numpy-functions) of Chapter 10: _NumPy - Our data container_.\n",
    "6. prints out all entries with even index values of column 3, and\n",
    "7. calculates the average and standard deviation of all entries of column 3.  \n",
    "    Hint: Again, please find the appropriate _NumPy_ functions in the [_Useful NumPy functions_ list](https://www.fabriziomusacchio.com/teaching/python_course/10_numpy#useful-numpy-functions)."
   ]
  },
  {
   "cell_type": "code",
   "execution_count": 35,
   "id": "1d4af0eb",
   "metadata": {},
   "outputs": [
    {
     "name": "stdout",
     "output_type": "stream",
     "text": [
      "SOLUTION 15.1:\n",
      "A:\n",
      "[[0. 1. 2.]\n",
      " [0. 1. 2.]\n",
      " [0. 1. 2.]\n",
      " [0. 1. 2.]\n",
      " [0. 1. 2.]]\n",
      "A.shape: (5, 3)\n",
      "\n",
      "SOLUTION 15.2:\n",
      "[0. 0. 0. 0. 0.]\n",
      "[1. 1. 1. 1. 1.]\n",
      "[[0. 1.]\n",
      " [0. 1.]\n",
      " [0. 1.]\n",
      " [0. 1.]\n",
      " [0. 1.]]\n",
      "\n",
      "SOLUTION 15.3:\n",
      "[[3. 1. 2.]\n",
      " [3. 1. 2.]\n",
      " [3. 1. 2.]\n",
      " [3. 1. 2.]\n",
      " [3. 1. 2.]]\n",
      "\n",
      "SOLUTION 15.4 and 15.5:\n",
      "4.0\n",
      "1.732\n",
      "[[3.    1.    4.   ]\n",
      " [3.    1.    1.732]\n",
      " [3.    1.    2.   ]\n",
      " [3.    1.    2.   ]\n",
      " [3.    1.    2.   ]]\n",
      "\n",
      "SOLUTION 15.6:\n",
      "[4. 2. 2.]\n",
      "\n",
      "SOLUTION 15.7:\n",
      "the result: 2.345703125 +/- 0.83349609375\n"
     ]
    }
   ],
   "source": [
    "# example solution output:"
   ]
  },
  {
   "cell_type": "markdown",
   "id": "8d835120",
   "metadata": {},
   "source": [
    "<details>\n",
    "<summary><strong>Toggle solution</strong></summary>\n",
    "\n",
    "~~~python\n",
    "# %% SOLUTION 15.1\n",
    "import numpy as np\n",
    "A = np.array([np.arange(0,3,1)]*5,dtype='float16')\n",
    "print(f\"SOLUTION 15.1:\")\n",
    "print(\"A:\")\n",
    "print(A)\n",
    "print(f\"A.shape: {A.shape}\\n\")\n",
    "\n",
    "# %% SOLUTION 15.2\n",
    "print(f\"SOLUTION 15.2:\")\n",
    "print(A[:, 0])\n",
    "print(A[:, 1])\n",
    "print(A[:, 0:2])\n",
    "print(\"\")\n",
    "\n",
    "# %% SOLUTION 15.3\n",
    "print(f\"SOLUTION 15.3:\")\n",
    "A[:,0] = A[:,1] + A[:,2]\n",
    "print(A)\n",
    "print(\"\")\n",
    "\n",
    "# %% SOLUTION 15.4 and 15.5\n",
    "print(f\"SOLUTION 15.4 and 15.5:\")\n",
    "A[0,2] = A[0,2]**2\n",
    "A[1,2] = np.sqrt(A[1,0])\n",
    "print(A[0,2])\n",
    "print(A[1,2])\n",
    "print(A)\n",
    "print(\"\")\n",
    "\n",
    "# %% SOLUTION 15.6\n",
    "print(f\"SOLUTION 15.6:\")\n",
    "print(A[0:5:2, 2]) # all entries with even index of column 3\n",
    "print(\"\")\n",
    "\n",
    "# %% SOLUTION 15.7\n",
    "print(f\"SOLUTION 15.7:\")\n",
    "print(f\"the result: {A[:,2].mean()} +/- {A[:,2].std()}\")\n",
    "~~~\n",
    "</details>"
   ]
  }
 ],
 "metadata": {
  "hide_input": false,
  "kernelspec": {
   "display_name": "Python 3 (ipykernel)",
   "language": "python",
   "name": "python3"
  },
  "language_info": {
   "codemirror_mode": {
    "name": "ipython",
    "version": 3
   },
   "file_extension": ".py",
   "mimetype": "text/x-python",
   "name": "python",
   "nbconvert_exporter": "python",
   "pygments_lexer": "ipython3",
   "version": "3.9.5"
  },
  "toc": {
   "base_numbering": 1,
   "nav_menu": {},
   "number_sections": true,
   "sideBar": true,
   "skip_h1_title": true,
   "title_cell": "Voluntary homework",
   "title_sidebar": "Contents",
   "toc_cell": true,
   "toc_position": {},
   "toc_section_display": true,
   "toc_window_display": false
  }
 },
 "nbformat": 4,
 "nbformat_minor": 5
}
