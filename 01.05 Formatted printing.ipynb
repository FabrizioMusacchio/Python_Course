{
 "cells": [
  {
   "cell_type": "markdown",
   "metadata": {
    "toc": true
   },
   "source": [
    "<h1>Formatted printing<span class=\"tocSkip\"></span></h1>\n",
    "<div class=\"toc\"><ul class=\"toc-item\"></ul></div>"
   ]
  },
  {
   "cell_type": "markdown",
   "metadata": {
    "collapsed": true,
    "pycharm": {
     "name": "#%% md\n"
    }
   },
   "source": [
    " "
   ]
  },
  {
   "cell_type": "markdown",
   "metadata": {},
   "source": [
    "As we are already familiar with variables, there is a useful modification within the print format, to e.g. print out variables together with some annotion in a more convenient, \"natural\" way: \n",
    "\n",
    "```python\n",
    "    print(f\"some description: {variable} more description\")\n",
    "```\n",
    "- simply take your text or annotation, but put a \"f\" infront of the quotation marks, and \n",
    "- where you want to use the value of a certain variable in this text, just plug-in that variable sourrounded by `{}`\n",
    "- you can even do some calculations with the brackets"
   ]
  },
  {
   "cell_type": "code",
   "execution_count": 1,
   "metadata": {},
   "outputs": [
    {
     "name": "stdout",
     "output_type": "stream",
     "text": [
      ">>>\n",
      "a: 8 b: 12\n"
     ]
    }
   ],
   "source": [
    "# default print:\n",
    "a = 8\n",
    "b = 12\n",
    "print(\">>>\")\n",
    "print(\"a:\", a, \"b:\", b) # a lot of commas :("
   ]
  },
  {
   "cell_type": "code",
   "execution_count": 2,
   "metadata": {
    "scrolled": true
   },
   "outputs": [
    {
     "name": "stdout",
     "output_type": "stream",
     "text": [
      ">>>\n",
      "Groupd A has 8 members, Groupd B has 12.\n"
     ]
    }
   ],
   "source": [
    "# formatted print command:\n",
    "print(\">>>\")\n",
    "print(f\"Groupd A has {a} members, Groupd B has {b}.\")"
   ]
  },
  {
   "cell_type": "code",
   "execution_count": 3,
   "metadata": {},
   "outputs": [
    {
     "name": "stdout",
     "output_type": "stream",
     "text": [
      ">>>\n",
      "In total we have 20 participants\n"
     ]
    }
   ],
   "source": [
    "# formatted print command with calculation:\n",
    "print(\">>>\")\n",
    "print(f\"In total we have {a+b} participants\")"
   ]
  }
 ],
 "metadata": {
  "hide_input": false,
  "kernelspec": {
   "display_name": "Python 3 (ipykernel)",
   "language": "python",
   "name": "python3"
  },
  "language_info": {
   "codemirror_mode": {
    "name": "ipython",
    "version": 3
   },
   "file_extension": ".py",
   "mimetype": "text/x-python",
   "name": "python",
   "nbconvert_exporter": "python",
   "pygments_lexer": "ipython3",
   "version": "3.9.5"
  },
  "toc": {
   "base_numbering": 1,
   "nav_menu": {},
   "number_sections": true,
   "sideBar": true,
   "skip_h1_title": true,
   "title_cell": "Formatted printing",
   "title_sidebar": "Contents",
   "toc_cell": true,
   "toc_position": {},
   "toc_section_display": true,
   "toc_window_display": false
  }
 },
 "nbformat": 4,
 "nbformat_minor": 1
}
