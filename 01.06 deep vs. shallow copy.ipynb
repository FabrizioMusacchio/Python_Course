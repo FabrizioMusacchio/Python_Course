{
 "cells": [
  {
   "cell_type": "markdown",
   "metadata": {
    "toc": true
   },
   "source": [
    "<h1>Deep vs. shallow copy<span class=\"tocSkip\"></span></h1>\n",
    "<div class=\"toc\"><ul class=\"toc-item\"></ul></div>"
   ]
  },
  {
   "cell_type": "markdown",
   "metadata": {
    "collapsed": true,
    "pycharm": {
     "name": "#%% md\n"
    }
   },
   "source": [
    " \n",
    "\n",
    "In _Python_, simply copying a variable via `a=b` won’t create a “**deep**“ copy, but just a “**shallow**“ **copy**:"
   ]
  },
  {
   "cell_type": "code",
   "execution_count": 1,
   "metadata": {
    "hide_input": true,
    "pycharm": {
     "name": "#%%\n"
    }
   },
   "outputs": [
    {
     "name": "stdout",
     "output_type": "stream",
     "text": [
      ">>>\n",
      "A and B before changing B (only): ([4, 12, 24], [4, 12, 24])\n"
     ]
    }
   ],
   "source": [
    "A = [4, 12, 24]\n",
    "B = A # shallow copy\n",
    "print(\">>>\")\n",
    "print(f\"A and B before changing B (only): {(A,B)}\")"
   ]
  },
  {
   "cell_type": "code",
   "execution_count": 2,
   "metadata": {
    "hide_input": false,
    "pycharm": {
     "name": "#%% \n"
    }
   },
   "outputs": [
    {
     "name": "stdout",
     "output_type": "stream",
     "text": [
      ">>>\n",
      "A and B after changing B (ony): ([4, -7, 24], [4, -7, 24])\n"
     ]
    }
   ],
   "source": [
    "B[1] = -7\n",
    "print(\">>>\")\n",
    "print(f\"A and B after changing B (ony): {(A,B)}\")"
   ]
  },
  {
   "cell_type": "markdown",
   "metadata": {
    "hide_input": true
   },
   "source": [
    "**deep vs. shallow copy**:\n",
    "* A shallow copy constructs a new compound object and then (to the extent possible) **inserts references** into it to the objects found in the original.\n",
    "* A deep copy constructs a new compound object and then, recursively, **inserts copies** into it of the objects found in the original.\n",
    "\n",
    "The difference between shallow and deep copying is only relevant for compound objects (objects that contain other objects, like lists or class instances)\n",
    "\n",
    "To perform a deep-copy use the `deepcopy`-command the copy-module:"
   ]
  },
  {
   "cell_type": "code",
   "execution_count": 6,
   "metadata": {
    "hide_input": false,
    "pycharm": {
     "name": "#%%\n"
    }
   },
   "outputs": [
    {
     "name": "stdout",
     "output_type": "stream",
     "text": [
      ">>>\n",
      "B and C before changing B (only): ([99, 898, 24], [99, 898, 24])\n",
      ">>>\n",
      "B and C after changing B (only): ([99, 898, 24], [99, 898, 24])\n"
     ]
    }
   ],
   "source": [
    "from copy import deepcopy\n",
    "C=deepcopy(B)\n",
    "print(\">>>\")\n",
    "print(f\"B and C before changing B (only): {(B,C)}\")\n",
    "\n",
    "B[1] = 898\n",
    "print(\">>>\")\n",
    "print(f\"B and C after changing B (only): {(B,C)}\")"
   ]
  },
  {
   "cell_type": "markdown",
   "metadata": {},
   "source": [
    "Defining a new variable by copying only a subset of a predifined variable also performs a deep-copy:"
   ]
  },
  {
   "cell_type": "code",
   "execution_count": 7,
   "metadata": {
    "pycharm": {
     "name": "#%%\n"
    }
   },
   "outputs": [
    {
     "name": "stdout",
     "output_type": "stream",
     "text": [
      ">>>\n",
      "D and B before changing B (only): ([99, 898], [99, 898, 24])\n",
      ">>>\n",
      "D and B after changing B (only): ([99, 898], [99, 898, 24])\n"
     ]
    }
   ],
   "source": [
    "D=B[0:2]\n",
    "print(\">>>\")\n",
    "print(f\"D and B before changing B (only): {(D,B)}\")\n",
    "\n",
    "B[0] = 99\n",
    "print(\">>>\")\n",
    "print(f\"D and B after changing B (only): {(D,B)}\")"
   ]
  },
  {
   "cell_type": "code",
   "execution_count": 8,
   "metadata": {},
   "outputs": [],
   "source": [
    "E = B+A # <-- no shallow copy problems"
   ]
  }
 ],
 "metadata": {
  "hide_input": false,
  "interpreter": {
   "hash": "31f2aee4e71d21fbe5cf8b01ff0e069b9275f58929596ceb00d14d90e3e16cd6"
  },
  "kernelspec": {
   "display_name": "Python 3 (ipykernel)",
   "language": "python",
   "name": "python3"
  },
  "language_info": {
   "codemirror_mode": {
    "name": "ipython",
    "version": 3
   },
   "file_extension": ".py",
   "mimetype": "text/x-python",
   "name": "python",
   "nbconvert_exporter": "python",
   "pygments_lexer": "ipython3",
   "version": "3.9.5"
  },
  "toc": {
   "base_numbering": 1,
   "nav_menu": {},
   "number_sections": true,
   "sideBar": true,
   "skip_h1_title": true,
   "title_cell": "Deep vs. shallow copy",
   "title_sidebar": "Contents",
   "toc_cell": true,
   "toc_position": {},
   "toc_section_display": true,
   "toc_window_display": false
  }
 },
 "nbformat": 4,
 "nbformat_minor": 1
}
