{
 "cells": [
  {
   "cell_type": "markdown",
   "metadata": {
    "toc": true
   },
   "source": [
    "<h1>Data Visualization with Matplotlib<span class=\"tocSkip\"></span></h1>\n",
    "<div class=\"toc\"><ul class=\"toc-item\"><li><span><a href=\"#Basic-plot-commands\" data-toc-modified-id=\"Basic-plot-commands-1\"><span class=\"toc-item-num\">1&nbsp;&nbsp;</span>Basic plot commands</a></span></li><li><span><a href=\"#Exercise-1\" data-toc-modified-id=\"Exercise-1-2\"><span class=\"toc-item-num\">2&nbsp;&nbsp;</span>Exercise 1</a></span></li><li><span><a href=\"#Exercise-2\" data-toc-modified-id=\"Exercise-2-3\"><span class=\"toc-item-num\">3&nbsp;&nbsp;</span>Exercise 2</a></span></li><li><span><a href=\"#The-plot-window-&quot;hack&quot;-in-Spyder\" data-toc-modified-id=\"The-plot-window-&quot;hack&quot;-in-Spyder-4\"><span class=\"toc-item-num\">4&nbsp;&nbsp;</span>The plot window \"hack\" in <em>Spyder</em></a></span></li><li><span><a href=\"#The-plot-window-&quot;hack&quot;-in-Jupyter\" data-toc-modified-id=\"The-plot-window-&quot;hack&quot;-in-Jupyter-5\"><span class=\"toc-item-num\">5&nbsp;&nbsp;</span>The plot window \"hack\" in <em>Jupyter</em></a></span></li><li><span><a href=\"#Exercise-3\" data-toc-modified-id=\"Exercise-3-6\"><span class=\"toc-item-num\">6&nbsp;&nbsp;</span>Exercise 3</a></span></li><li><span><a href=\"#Further-readings\" data-toc-modified-id=\"Further-readings-7\"><span class=\"toc-item-num\">7&nbsp;&nbsp;</span>Further readings</a></span></li></ul></div>"
   ]
  },
  {
   "cell_type": "markdown",
   "metadata": {},
   "source": [
    " "
   ]
  },
  {
   "cell_type": "markdown",
   "metadata": {},
   "source": [
    "In the previous chapter we have created our first _NumPy_ arrays (`np.array()`, `np.arange()`). We also learned and applied functions that can be used to analyze these arrays (e.g. `np.mean()`, `np.std()`, `np.sum()`...). Arrays are the common structure in which scientific data is handled in _Python_, _MATLAB_ © and many other programming languages and analysis tools. \n",
    "\n",
    "But what we still miss so far is a method to visualize data, i.e., arrays. Pure _Python_ has no build-in visualization capabilities, but packages like _Matplotlib_ overcome this problem: [matplotlib.org](https://matplotlib.org/stable/index.html)."
   ]
  },
  {
   "cell_type": "markdown",
   "metadata": {},
   "source": [
    "<div class=\"alert alert-block alert-info\">\n",
    "<b>Info:</b> It is worth visiting the Matplotlib website (follow link above). The website has many good examples that cover many areas of application:\n",
    "</div>"
   ]
  },
  {
   "cell_type": "markdown",
   "metadata": {},
   "source": [
    "<figure class=\"image\">\n",
    "  <img src=\"img/Matplotlib3.png\" alt=\"NumPy Logo\" style=\"width: 100%;\">\n",
    "  <figcaption>Screenshot of the <a href=\"https://matplotlib.org/stable/index.html\">Matplotlib website</a>. (own screenshot)</figcaption>\n",
    "</figure>"
   ]
  },
  {
   "cell_type": "markdown",
   "metadata": {},
   "source": [
    " "
   ]
  },
  {
   "cell_type": "markdown",
   "metadata": {},
   "source": [
    "## Basic plot commands\n",
    "\n",
    "We start with an easy example and create two arrays `x` any `y`:"
   ]
  },
  {
   "cell_type": "code",
   "execution_count": null,
   "metadata": {},
   "outputs": [],
   "source": [
    "import numpy as np\n",
    "import matplotlib.pyplot as plt # imports most relevant\n",
    "                                # Matplotlib commands\n",
    "\"\"\"if you're working on Google Colab, uncomment the next line:\"\"\"\n",
    "# from google.colab import files \n",
    "\n",
    "# create two NumPy arrays:\n",
    "dx = 1     # step-size\n",
    "length = 2 # length of the x-array\n",
    "\n",
    "x = np.arange(0, length * np.pi, dx) # =length·π\n",
    "y = np.sin(x) # our \"signal\""
   ]
  },
  {
   "cell_type": "markdown",
   "metadata": {},
   "source": [
    "We now plot the _x_-array against the _y_-array via shortest way with Matplotlib (with single-line command, should work in the most _Python_ IDE):"
   ]
  },
  {
   "cell_type": "code",
   "execution_count": null,
   "metadata": {},
   "outputs": [],
   "source": [
    "plt.plot(x, y, '-.', lw=5, label=\"Signal\")"
   ]
  },
  {
   "cell_type": "code",
   "execution_count": null,
   "metadata": {},
   "outputs": [],
   "source": [
    "plt.plot(x+1, y, '-.', lw=5, label=\"Signal\", c=\"cyan\")"
   ]
  },
  {
   "cell_type": "code",
   "execution_count": null,
   "metadata": {},
   "outputs": [],
   "source": [
    "plt.plot(x-1, y, '-d', lw=2, label=\"Signal\")"
   ]
  },
  {
   "cell_type": "code",
   "execution_count": null,
   "metadata": {
    "scrolled": true
   },
   "outputs": [],
   "source": [
    "plt.plot(x, y, '-.', lw=5, label=\"Signal\")\n",
    "plt.plot(x+1, y, '-.', lw=5, label=\"Signal\", c=\"cyan\")\n",
    "plt.plot(x-1, y, '-d', lw=2, label=\"Signal\", c=\"pink\")"
   ]
  },
  {
   "cell_type": "markdown",
   "metadata": {},
   "source": [
    "While the single-line command is handy and quick, we have options to get some more control over the plot layout and the plot figure:"
   ]
  },
  {
   "cell_type": "code",
   "execution_count": null,
   "metadata": {},
   "outputs": [],
   "source": [
    "fig = plt.figure(1) # gives us control over the plot window (in Spyder)\n",
    "                    # e.g. open several different plot windows\n",
    "                    # (just change the number in parentheses)\n",
    "fig.clf()           # clears any previous plot in the figure (in Spyder)\n",
    "plt.plot(x,y, label=\"Signal\", lw=3.75) \n",
    "plt.show()          # finalizes the plot (sometimes necessary in Spyder)"
   ]
  },
  {
   "cell_type": "markdown",
   "metadata": {},
   "source": [
    "The output still looks the same, so let's add some details such as axis labels, a title and a legend:"
   ]
  },
  {
   "cell_type": "code",
   "execution_count": null,
   "metadata": {},
   "outputs": [],
   "source": [
    "fig = plt.figure(76)\n",
    "fig.clf()\n",
    "\n",
    "plt.plot(x,np.cos(x), label=\"Cosine\", lw=3) \n",
    "plt.plot(x,np.sin(x), \"--\", label=\"Sine\", lw=3) \n",
    "\n",
    "# axis labels and title:\n",
    "plt.xlabel(\"x (distance in radians)\")\n",
    "plt.ylabel(\"y (sin(x))\")\n",
    "plt.title(\"Our first signal\")\n",
    "\n",
    "# shows a legend (best location determined by Matplotlib):\n",
    "plt.legend(loc=\"best\")\n",
    "\n",
    "plt.tight_layout() # removes unnecessary white space on the figure (in Spyder)\n",
    "plt.show()"
   ]
  },
  {
   "cell_type": "markdown",
   "metadata": {},
   "source": [
    "As the plot is gone as soon as we close the figure window, we usually want to save our figure, e.g., as a PDF:"
   ]
  },
  {
   "cell_type": "code",
   "execution_count": null,
   "metadata": {},
   "outputs": [],
   "source": [
    "fig.savefig(\"my_plot.pdf\", dpi=120)\n",
    "\"\"\"if you're working on Google Colab, uncomment the next line:\"\"\"\n",
    "# files.download(\"my_plot.pdf\")\n",
    "# or, if you didn't use the fig = plt.figure(1) command (e.g. in Jupyter):\n",
    "# plt.savefig(\"my_plot.pdf\", dpi=120)"
   ]
  },
  {
   "cell_type": "code",
   "execution_count": null,
   "metadata": {},
   "outputs": [],
   "source": [
    "fig = plt.figure(76)\n",
    "fig.clf()\n",
    "\n",
    "plt.plot(x,np.cos(x), label=\"Cosine\", lw=3) \n",
    "plt.plot(x,np.sin(x), \"--\", label=\"Sine\", lw=3) \n",
    "\n",
    "# axis labels and title:\n",
    "plt.xlabel(\"x (distance in radians)\")\n",
    "plt.ylabel(\"y (sin(x) o r cos(x))\", fontweight=\"bold\")\n",
    "plt.title(\"Our first signal\", fontsize=26,\n",
    "          fontweight=\"bold\")\n",
    "\n",
    "# shows a legend (best location determined by Matplotlib):\n",
    "plt.legend(loc=\"best\")\n",
    "\n",
    "plt.tight_layout() # removes unnecessary white space on the figure (in Spyder)\n",
    "#plt.show()\n",
    "fig.savefig(\"my_plot.tif\", dpi=120)\n",
    "\"\"\"if you're working on Google Colab, uncomment the next line:\"\"\"\n",
    "# files.download(\"my_plot.pdf\")"
   ]
  },
  {
   "cell_type": "markdown",
   "metadata": {},
   "source": [
    "With the file extension specified in the file name, Matplotlib can automatically determine in which file format the plot should be saved (e.g. \".pdf\" is saved as PDF, \".png\" is saved as PNG, \".jpg\" is saved as JPG)."
   ]
  },
  {
   "cell_type": "markdown",
   "metadata": {},
   "source": [
    "<div class=\"alert alert-block alert-info\">\n",
    "<b>Info:</b> The statement \"my_plot.pdf\" in the fig.savefig-command creates a PDF (with a resolution of 120 dpi) into the folder, in which your have saved (and executed) your Python script. It is also possible, to define any other path to save the PDF, e.g., \"My_Plots/my_plot.pdf\" or \"/Users/user/Python/my_plot.pdf\". \n",
    "</div>"
   ]
  },
  {
   "cell_type": "markdown",
   "metadata": {},
   "source": [
    "## Exercise 1\n",
    "\n",
    "1. Put the NumPy array definitions and the extended Matplotlib commands from above into a script. \n",
    "2. Run the script. \n",
    "3. Vary the step-size `dx`\n",
    "and array-length `length` and re-run the script (repeat this several times if you like to)."
   ]
  },
  {
   "cell_type": "code",
   "execution_count": null,
   "metadata": {},
   "outputs": [],
   "source": [
    "# Your solution 1 here (or create a Python script in Spyder):\n"
   ]
  },
  {
   "cell_type": "markdown",
   "metadata": {},
   "source": [
    "## Exercise 2\n",
    "\n",
    "1. Extend your script from Exercise 3 from the _NumPy_ chapter by _Matplotlib_ commands, so that it\n",
    "    - plots the `time` array vs. the `y` array.\n",
    "    - plots the `time` array vs. the `y_noisy` array (just add another `plt.plot()` command).\n",
    "    - plots the `time` array vs. the `y_denoised_3`.\n",
    "    - plots the `time` array vs. the `y_denoised_6`.\n",
    "2. Add _x_- and _y_-labels and a title to your plot. \n",
    "3. Add a legend to your plot.\n",
    "4. Save your plot as a PDF and as a PNG (also here, just add another `fig.savefig()` command).\n",
    "5. Search on the web for the _Matplotlib_ documentation of the `matplotlib.pyplot.legend` command (note, that due to our import `import matplotlib.pyplot as plt`, this is the full written command-name of our `plt.legend()`). In this documentation, find the argument, that defines the location of the legend. Place the legend to the upper left corner.\n",
    "6. [Choose some colors](https://matplotlib.org/stable/gallery/color/named_colors.html)  that suit your taste and change the color of the plots."
   ]
  },
  {
   "cell_type": "code",
   "execution_count": null,
   "metadata": {
    "code_folding": []
   },
   "outputs": [],
   "source": [
    "# Previous solution from Exercise 3 from the NumPy chapter:\n",
    "import numpy as np\n",
    "from scipy.ndimage import gaussian_filter1d\n",
    "import matplotlib.pyplot as plt\n",
    "\n",
    "# %% NUMPY: DEFINE SOME DATA WITH NOISE\n",
    "\n",
    "# create data arrays:\n",
    "time = np.arange(0,5, 0.1)\n",
    "y = np.exp(time)\n",
    "\n",
    "# add some noise:\n",
    "y_noisy = y.copy()\n",
    "y_noisy = y_noisy  + np.random.randn(len(time))*10\n",
    "\n",
    "# apply filters:\n",
    "y_denoised_3 = gaussian_filter1d(y_noisy, 3)\n",
    "y_denoised_6 = gaussian_filter1d(y_noisy, 6)"
   ]
  },
  {
   "cell_type": "code",
   "execution_count": null,
   "metadata": {},
   "outputs": [],
   "source": [
    "# Your solution 2 here:\n"
   ]
  },
  {
   "cell_type": "markdown",
   "metadata": {},
   "source": [
    "<details>\n",
    "<summary><strong>Toggle solution</strong></summary>\n",
    "\n",
    "```python\n",
    "# Solution 2:\n",
    "# %% Plotting\n",
    "\n",
    "fig=plt.figure(1) \n",
    "fig.clf()\n",
    "\n",
    "plt.plot(time, y, label ='raw signal', lw=5, color='y')\n",
    "plt.plot(time, y_noisy, label = 'noisy signal')\n",
    "plt.plot(time, y_denoised_3, \n",
    "         label = 'filter with $\\sigma$=3')\n",
    "plt.plot(time, y_denoised_6,      \n",
    "         label = 'filter with $\\sigma_y^5$=6', c='m') \n",
    "\n",
    "plt.xlabel('time [s]')\n",
    "plt.ylabel('signal')\n",
    "plt.title('Signal vs. noisy signal vs. filtered signal')\n",
    "\n",
    "#plt.legend(loc='best')\n",
    "plt.legend(loc='upper left')\n",
    "\n",
    "plt.tight_layout()\n",
    "plt.show()\n",
    "\n",
    "fig.savefig('my_signal_plot.pdf', dpi=120)\n",
    "``` \n",
    "<script src=\"https://gist.github.com/username/a39a422ebdff6e732753b90573100b16.js\"></script>\n",
    "</details>"
   ]
  },
  {
   "cell_type": "markdown",
   "metadata": {},
   "source": [
    "The statement `$\\sigma$` enables the LaTex interpretation within the labeling command (works also in title and other text annotations)."
   ]
  },
  {
   "cell_type": "markdown",
   "metadata": {},
   "source": [
    "The above multi-line plot commands can also be packed into a single-line command (but with fewer adjustment possibilities):"
   ]
  },
  {
   "cell_type": "code",
   "execution_count": null,
   "metadata": {
    "code_folding": []
   },
   "outputs": [],
   "source": [
    "# Single-line solution:\n",
    "plt.plot(time, y, '-r', \n",
    "         time, y_noisy, \n",
    "         time, y_denoised_3, \n",
    "         time, y_denoised_6)"
   ]
  },
  {
   "cell_type": "markdown",
   "metadata": {},
   "source": [
    "Matplotlib commands can grow big very quickly. It's therefore often usefull to plug these commands into a function definition, in order to keep your script readable and especially when you need to repeat your plot command(s) several times within your script."
   ]
  },
  {
   "cell_type": "markdown",
   "metadata": {},
   "source": [
    "## The plot window \"hack\" in _Spyder_\n",
    "Prior to _Spyder_ 4.x, any plot was displayed in its own separate plot window. The advantage of these windows was, that they were interactive (to a certain degree), i.e., you could zoom in out without sacrificing resolution. Also, you could pick coordinates, which is sometimes helpful to explore your data. \n",
    "\n",
    "If you want to get rid of the new but static internal plot window, change the following settings in _Spyder_: \n",
    "\n",
    "``` \n",
    "Preferences > IPython console > Graphics > Graphics backend > Backend: Automatic\n",
    "```\n",
    "\n",
    "<figure class=\"image\">\n",
    "  <img src=\"img/MatplotlibHack.png\" alt=\"Matplotlib 'Hack'\" style=\"width: 100%;\">\n",
    "  <figcaption>Matplotlib 'Hack', to enable separate stand-alone plot-windows. (own screenshot)</figcaption>\n",
    "</figure>\n",
    "\n",
    "This enables an interactive, stand-alone plot/figure window for each plot you make. \n",
    "\n",
    "**Hint**: In order to overcome having too many plot windows opened, e.g., emerging from a _for_-loop, you can address each plot window by the `plt.figure(any_numer)` command."
   ]
  },
  {
   "cell_type": "markdown",
   "metadata": {},
   "source": [
    "## The plot window \"hack\" in _Jupyter_\n",
    "In case you want to have an interactive stand-alone plot window using a _Jupyter_ notebook, type the following command once into a code cell of your notebook:\n",
    "\n",
    "~~~py\n",
    "%matplotlib qt\n",
    "~~~\n",
    "\n",
    "After executing that cell, all your further plots will be opened in their own stand-alone window. If you want to turn back to inline plots within your notebook, comment the above command (or remove it) and re-run the cell once with the following command:\n",
    "\n",
    "~~~py\n",
    "# %matplotlib qt\n",
    "%matplotlib inline\n",
    "~~~\n",
    "\n",
    "Many thanks to [Miguel](https://github.com/amgfernandes)  for this  handy trick 😊.\n",
    "\n",
    "<div class=\"alert alert-block alert-info\">\n",
    "<b>Magic commands:</b> The two commands shown above, that are initialized by the `%` sign, are so-called <i>IPython Magic Commands</i>. There even more of these very useful commands available, just check out this <a href =\"https://ipython.readthedocs.io/en/stable/interactive/magics.html?highlight=magic%20commands\">documentation website</a>.\n",
    "</div>"
   ]
  },
  {
   "cell_type": "markdown",
   "metadata": {},
   "source": [
    "Alternative backends (instead of \"qt\"): \n",
    "Key backend: 'gtkagg' is not a valid value for backend; supported values are ['GTK3Agg', 'GTK3Cairo', 'MacOSX', 'nbAgg', 'Qt4Agg', 'Qt4Cairo', 'Qt5Agg', 'Qt5Cairo', 'TkAgg', 'TkCairo', 'WebAgg', 'WX', 'WXAgg', 'WXCairo', 'agg', 'cairo', 'pdf', 'pgf', 'ps', 'svg', 'template']"
   ]
  },
  {
   "cell_type": "markdown",
   "metadata": {},
   "source": [
    "## Exercise 3\n",
    "\n",
    "\n",
    "1. Create a new script and define the following _NumPy_ arrays as dummy data arrays:\n",
    "```\n",
    "    np.random.seed(1)\n",
    "    Group_A = np.random.randn(10) * 10 + 5\n",
    "    Group_B = np.random.randn(10) * 10 + 2\n",
    "```\n",
    "2. Plot the averages of `Group_A` and `Group_B` in a bar-plot in figure 1:\n",
    "    - use the plot command `plt.bar([1, 2], [\"Mean of Group A\", \"Mean of Group B\"])`. Hint: `\"Mean of Group A\"` and `\"Mean of Group B\"` are just placeholders! Replace this with the according _NumPy_ averaging command.\n",
    "    - define the x-tick labels via `plt.xticks([1,2], labels=[\"A\", \"B\"])`\n",
    "    - add appropriate _x_- and _y_-labels and a title to your plot. \n",
    "    - save your plot as a PDF.\n",
    "3. Plot the values of `Group_A` and `Group_B`, respectively, in a boxplot in figure 2:\n",
    "    - set the figure aspect ratio to 5x6 via `fig=plt.figure(2, figsize=(5,6))`\n",
    "    - use the plot command `plt.boxplot([Group_A, Group_B])`\n",
    "    - define the x-tick labels via `plt.xticks([1,2], labels=[\"A\", \"B\"])`\n",
    "    - add appropriate _x_- and _y_-labels and a title to your plot. \n",
    "    - save your plot as a PDF.\n",
    "4.  Same as 3., but now use the command `plt.violinplot([Group_A, Group_B], showmedians=True)` to plot the values in figure 3."
   ]
  },
  {
   "cell_type": "code",
   "execution_count": null,
   "metadata": {},
   "outputs": [],
   "source": [
    "# Your solution 3.1 here:\n",
    "\n",
    "# Generate some random dummy data:\n"
   ]
  },
  {
   "cell_type": "markdown",
   "metadata": {},
   "source": [
    "<details>\n",
    "<summary><strong>Toggle solution</strong></summary>\n",
    "\n",
    "```python\n",
    "# Solution 3.1\n",
    "import numpy as np\n",
    "import matplotlib.pyplot as plt\n",
    "\n",
    "# Generate some random dummy data:\n",
    "np.random.seed(1)\n",
    "Group_A = np.random.randn(10)*10+5\n",
    "Group_B = np.random.randn(10)*10+2\n",
    "``` \n",
    "<script src=\"https://gist.github.com/username/a39a422ebdff6e732753b90573100b16.js\"></script>\n",
    "</details>"
   ]
  },
  {
   "cell_type": "code",
   "execution_count": null,
   "metadata": {},
   "outputs": [],
   "source": [
    "# Your solution 3.2 here:\n"
   ]
  },
  {
   "cell_type": "markdown",
   "metadata": {},
   "source": [
    "<details>\n",
    "<summary><strong>Toggle solution</strong></summary>\n",
    "\n",
    "```python\n",
    "# Solution 3.2\n",
    "fig=plt.figure(1)\n",
    "fig.clf()\n",
    "\n",
    "plt.bar([1, 2], [Group_A.mean(), Group_B.mean()])\n",
    "\n",
    "plt.xticks([1, 2], labels=[\"A\", \"B\"])\n",
    "plt.xlabel(\"Groups\")\n",
    "plt.ylabel(\"measurements\")\n",
    "plt.title(\"Bar-plot of group averages\")\n",
    "\n",
    "plt.tight_layout\n",
    "plt.show()\n",
    "fig.savefig(\"barplot.pdf\", dpi=120)\n",
    "``` \n",
    "<script src=\"https://gist.github.com/username/a39a422ebdff6e732753b90573100b16.js\"></script>\n",
    "</details>"
   ]
  },
  {
   "cell_type": "code",
   "execution_count": null,
   "metadata": {},
   "outputs": [],
   "source": [
    "# Your solution 3.3 here:\n",
    "# Solution 3.3\n"
   ]
  },
  {
   "cell_type": "markdown",
   "metadata": {},
   "source": [
    "<details>\n",
    "<summary><strong>Toggle solution</strong></summary>\n",
    "\n",
    "```python\n",
    "# Solution 3.3\n",
    "fig=plt.figure(2, figsize=(5,6))\n",
    "fig.clf()\n",
    "\n",
    "x_ticks_A = np.ones(len(Group_A))\n",
    "x_ticks_B = np.ones(len(Group_B))\n",
    "\n",
    "plt.boxplot([Group_A, Group_B])\n",
    "\n",
    "plt.xticks([1,2], labels=[\"A\", \"B\"])\n",
    "plt.xlabel(\"Groups\")\n",
    "plt.ylabel(\"measurements\")\n",
    "plt.title(\"Boxplot diagram\")\n",
    "plt.tight_layout\n",
    "plt.show()\n",
    "fig.savefig(\"boxlot.pdf\", dpi=120)\n",
    "``` \n",
    "<script src=\"https://gist.github.com/username/a39a422ebdff6e732753b90573100b16.js\"></script>\n",
    "</details>"
   ]
  },
  {
   "cell_type": "code",
   "execution_count": null,
   "metadata": {},
   "outputs": [],
   "source": [
    "# Your solution 3.4 here:\n"
   ]
  },
  {
   "cell_type": "markdown",
   "metadata": {},
   "source": [
    "<details>\n",
    "<summary><strong>Toggle solution</strong></summary>\n",
    "\n",
    "```python\n",
    "# Solution 3.4\n",
    "fig=plt.figure(3, figsize=(5,6))\n",
    "fig.clf()\n",
    "\n",
    "plt.violinplot([Group_A, Group_B], showmedians=True)\n",
    "#plt.boxplot([Group_A, Group_B])\n",
    "\n",
    "plt.xticks([1,2], labels=[\"A\", \"B\"])\n",
    "plt.xlabel(\"Groups\")\n",
    "plt.ylabel(\"measurements\")\n",
    "plt.title(\"Violin plot\")\n",
    "plt.tight_layout\n",
    "plt.ylim(-40, 40)\n",
    "plt.show()\n",
    "fig.savefig(\"violinplot.pdf\", dpi=120)\n",
    "``` \n",
    "<script src=\"https://gist.github.com/username/a39a422ebdff6e732753b90573100b16.js\"></script>\n",
    "</details>"
   ]
  },
  {
   "attachments": {},
   "cell_type": "markdown",
   "metadata": {},
   "source": [
    "## Further readings\n",
    "In this course, we can not go too far into depth of the topics of each chapter. This is also the case in this chapter. The power and functions of _Matplotlib_ are incredible, we only touched a few aspects of them. If you want to explore its full potential, as already stated at the beginning of this chapter, visit the  [_Matplotlib_ website](https://matplotlib.org/stable/index.html), which contains many good examples and an excellent documentation. For example, explore more\n",
    "\n",
    "* [linestyles, markerstyles and colors](https://matplotlib.org/stable/api/_as_gen/matplotlib.pyplot.plot.html). This documentation page also contains a list of additional `pyplot` (`plt.plot()`) arguments like\n",
    "    * `alpha` (adjusting opacity of the plotted line)\n",
    "    * `color`, `c` (define the color of a plotted line)\n",
    "    * `label` (gives your line a name, that the `plt.legend()` then uses to show it in a legend)\n",
    "    * `linestyle`, `ls` (defines the linestyle)\n",
    "    * `linewdth`, `lw`(defines the linewidth)\n",
    "    * `marker` (defines the marker style)\n",
    "    * `markeredgecolor`, `mec` and `markerfacecolor`, `mfc` (defines the color of the chosen marker)\n",
    "    * `markersize`, `ms` (defines the size of the chosen marker)\n",
    "* about [adjusting the legend](https://matplotlib.org/stable/api/_as_gen/matplotlib.pyplot.legend.html)\n",
    "* and [colors](https://matplotlib.org/stable/gallery/color/named_colors.html)"
   ]
  },
  {
   "cell_type": "code",
   "execution_count": 1,
   "metadata": {},
   "outputs": [
    {
     "data": {
      "text/plain": [
       "<matplotlib.legend.Legend at 0x7fcd80e42880>"
      ]
     },
     "execution_count": 1,
     "metadata": {},
     "output_type": "execute_result"
    },
    {
     "data": {
      "image/png": "[encoded data removed]",
      "text/plain": [
       "<Figure size 640x480 with 1 Axes>"
      ]
     },
     "metadata": {},
     "output_type": "display_data"
    }
   ],
   "source": [
    "# Example:\n",
    "import matplotlib.pyplot as plt\n",
    "\n",
    "plt.plot([1,2,3,4], [1,4,9,16], ls='-', marker=\"o\", \n",
    "         label=\"my line A\")\n",
    "plt.plot([1,2,3,4], [1,3,5,9], ls='-', marker=\"s\",\n",
    "         label=\"my line B\", markersize=10, c=\"r\")\n",
    "plt.plot([1,2,3,4], [1,6,8,12], ls=\"\" ,marker=\"d\",\n",
    "         label=\"my line B\", markersize=10, c=\"c\")\n",
    "#plt.plot([1,2,3,4], [1,4,9,16], 'ro', label=\"my line A\")\n",
    "#plt.plot([1,2,3,4], [1,3,5,9], 'go', label=\"my line B\")\n",
    "plt.axis([0, 6, 0, 20])\n",
    "plt.legend()\n",
    "#plt.show()"
   ]
  },
  {
   "cell_type": "code",
   "execution_count": 2,
   "metadata": {},
   "outputs": [
    {
     "data": {
      "text/plain": [
       "<matplotlib.legend.Legend at 0x7fcd78243d60>"
      ]
     },
     "execution_count": 2,
     "metadata": {},
     "output_type": "execute_result"
    },
    {
     "data": {
      "image/png": "[encoded data removed]",
      "text/plain": [
       "<Figure size 640x480 with 1 Axes>"
      ]
     },
     "metadata": {},
     "output_type": "display_data"
    }
   ],
   "source": [
    "# Example:\n",
    "import matplotlib.pyplot as plt\n",
    "\n",
    "plt.plot([1,2,3,4], [1,4,9,16], 'r-', label=\"my line A\")\n",
    "plt.plot([1,2,3,4], [1,3,5,9], 'g-o', label=\"my line B\")\n",
    "# similar to:\n",
    "#plt.plot([1,2,3,4], [1,3,5,9], ls='--', c=\"g\", \n",
    "#         label=\"my line B\", marker=\"o\")\n",
    "plt.axis([0, 6, 0, 20])\n",
    "plt.legend()\n",
    "#plt.show()"
   ]
  }
 ],
 "metadata": {
  "hide_input": false,
  "kernelspec": {
   "display_name": "Python 3",
   "language": "python",
   "name": "python3"
  },
  "language_info": {
   "codemirror_mode": {
    "name": "ipython",
    "version": 3
   },
   "file_extension": ".py",
   "mimetype": "text/x-python",
   "name": "python",
   "nbconvert_exporter": "python",
   "pygments_lexer": "ipython3",
   "version": "3.8.16"
  },
  "toc": {
   "base_numbering": 1,
   "nav_menu": {},
   "number_sections": true,
   "sideBar": true,
   "skip_h1_title": true,
   "title_cell": "Data Visualization with Matplotlib",
   "title_sidebar": "Contents",
   "toc_cell": true,
   "toc_position": {},
   "toc_section_display": true,
   "toc_window_display": false
  },
  "varInspector": {
   "cols": {
    "lenName": 16,
    "lenType": 16,
    "lenVar": 40
   },
   "kernels_config": {
    "python": {
     "delete_cmd_postfix": "",
     "delete_cmd_prefix": "del ",
     "library": "var_list.py",
     "varRefreshCmd": "print(var_dic_list())"
    },
    "r": {
     "delete_cmd_postfix": ") ",
     "delete_cmd_prefix": "rm(",
     "library": "var_list.r",
     "varRefreshCmd": "cat(var_dic_list()) "
    }
   },
   "types_to_exclude": [
    "module",
    "function",
    "builtin_function_or_method",
    "instance",
    "_Feature"
   ],
   "window_display": false
  },
  "vscode": {
   "interpreter": {
    "hash": "4dbe93ddc4bed5499d29720f38f7446a34b15f2f3201b881b9bf1c1a4baa393f"
   }
  }
 },
 "nbformat": 4,
 "nbformat_minor": 4
}
