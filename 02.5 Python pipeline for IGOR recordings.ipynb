{
 "cells": [
  {
   "cell_type": "markdown",
   "id": "3d474684",
   "metadata": {
    "toc": true
   },
   "source": [
    "<h1>Python pipeline for IGOR recordings<span class=\"tocSkip\"></span></h1>\n",
    "<div class=\"toc\"><ul class=\"toc-item\"><li><span><a href=\"#Preparations\" data-toc-modified-id=\"Preparations-1\"><span class=\"toc-item-num\">1&nbsp;&nbsp;</span>Preparations</a></span></li><li><span><a href=\"#Exercise-1\" data-toc-modified-id=\"Exercise-1-2\"><span class=\"toc-item-num\">2&nbsp;&nbsp;</span><span style=\"color: limegreen\">Exercise 1</span></a></span></li></ul></div>"
   ]
  },
  {
   "cell_type": "markdown",
   "id": "ab7ddd55",
   "metadata": {},
   "source": [
    "## Preparations\n",
    "Please install the following two packages in the Anaconda packages manager:\n",
    "\n",
    "- neo ([neuralensemble.org/neo](http://neuralensemble.org/neo/), [Paper](https://biomedical-engineering-online.biomedcentral.com/articles/10.1186/s12938-017-0419-7))\n",
    "- igor ([pypi.org/project/igor](https://pypi.org/project/igor/))\n",
    "\n",
    "and download from the shared Nextcloud folder:\n",
    "\n",
    "- Data/Igor_1"
   ]
  },
  {
   "cell_type": "markdown",
   "id": "1c7e912a",
   "metadata": {},
   "source": [
    "## <span style=\"color:limegreen\">Exercise 1</span>\n",
    "<blockquote>\n",
    "\n",
    "1. Create a new script, that reads in all IGOR binary _ibw_-files into a variable called, e.g., `filenames`. Hint: You can use the method we have introduced in Chapter 2.4, _Python pipeline for a basic time series analysis_. Print out all read filenames.\n",
    "2. Use the function `sorted` to sort the filenames in ascending order. Hint: Look-up the usage of `sorted` e.g. on [python.org](https://docs.python.org/3/howto/sorting.html) or [realpython.com](https://realpython.com/python-sort/). What do you notice?\n",
    "</blockquote>"
   ]
  },
  {
   "cell_type": "code",
   "execution_count": 23,
   "id": "6e8abdd8",
   "metadata": {
    "code_folding": []
   },
   "outputs": [
    {
     "name": "stdout",
     "output_type": "stream",
     "text": [
      "file list (sorted): ['ad1_1.ibw', 'ad1_10.ibw', 'ad1_11.ibw', 'ad1_12.ibw', 'ad1_13.ibw', 'ad1_14.ibw', 'ad1_15.ibw', 'ad1_16.ibw', 'ad1_17.ibw', 'ad1_18.ibw', 'ad1_19.ibw', 'ad1_2.ibw', 'ad1_3.ibw', 'ad1_4.ibw', 'ad1_5.ibw', 'ad1_6.ibw', 'ad1_7.ibw', 'ad1_8.ibw', 'ad1_9.ibw']\n"
     ]
    }
   ],
   "source": [
    "# Solution 2.1-2.2:\n",
    "import numpy as np\n",
    "import matplotlib\n",
    "import pandas as pd\n",
    "import matplotlib.pyplot as plt\n",
    "import os\n",
    "from neo import io\n",
    "\n",
    "file_path = \"Data/igor_1/\"\n",
    "file_names = [file for file in os.listdir(file_path) \\\n",
    "              if file.endswith('.ibw')]\n",
    "file_names = sorted(file_names)\n",
    "print(f\"file list (sorted): {file_names}\")"
   ]
  },
  {
   "cell_type": "markdown",
   "id": "12dbac22",
   "metadata": {},
   "source": [
    "Let's see how the IGOR files look like:"
   ]
  },
  {
   "cell_type": "code",
   "execution_count": 24,
   "id": "5e119e4c",
   "metadata": {},
   "outputs": [],
   "source": [
    "test_file = os.path.join(file_path, file_names[0])\n",
    "test_igor_read = io.IgorIO(test_file).read_analogsignal()"
   ]
  },
  {
   "cell_type": "markdown",
   "id": "732ccd75",
   "metadata": {},
   "source": [
    "Please try out the following commands in your console, one after another:"
   ]
  },
  {
   "cell_type": "code",
   "execution_count": 25,
   "id": "22cc3207",
   "metadata": {
    "scrolled": true
   },
   "outputs": [
    {
     "data": {
      "text/plain": [
       "AnalogSignal with 1 channels of length 20000; units dimensionless; datatype float64 \n",
       "name: 'ad1_1'\n",
       "annotations: {'note': b'BASELINE=-59.885831\\rBASESUBTRACTED=0.000000\\rREJECT=0.000000\\rSTEP=0.000000'}\n",
       "sampling rate: 25.0 1/s\n",
       "time: 0.0 s to 800.0 s"
      ]
     },
     "execution_count": 25,
     "metadata": {},
     "output_type": "execute_result"
    }
   ],
   "source": [
    "test_igor_read"
   ]
  },
  {
   "cell_type": "code",
   "execution_count": 26,
   "id": "1cb1fb76",
   "metadata": {},
   "outputs": [
    {
     "data": {
      "text/plain": [
       "(20000, 1)"
      ]
     },
     "execution_count": 26,
     "metadata": {},
     "output_type": "execute_result"
    }
   ],
   "source": [
    "test_igor_read.shape"
   ]
  },
  {
   "cell_type": "code",
   "execution_count": 27,
   "id": "bbc6ab41",
   "metadata": {},
   "outputs": [
    {
     "data": {
      "text/plain": [
       "array(25.) * 1/s"
      ]
     },
     "execution_count": 27,
     "metadata": {},
     "output_type": "execute_result"
    }
   ],
   "source": [
    "test_igor_read.sampling_rate"
   ]
  },
  {
   "cell_type": "code",
   "execution_count": 28,
   "id": "6388391e",
   "metadata": {},
   "outputs": [
    {
     "data": {
      "text/plain": [
       "array(25.)"
      ]
     },
     "execution_count": 28,
     "metadata": {},
     "output_type": "execute_result"
    }
   ],
   "source": [
    "np.array(test_igor_read.sampling_rate) # 1/s"
   ]
  },
  {
   "cell_type": "code",
   "execution_count": 29,
   "id": "c2d6fa93",
   "metadata": {},
   "outputs": [
    {
     "data": {
      "text/plain": [
       "array([0.0000e+00, 4.0000e-02, 8.0000e-02, ..., 7.9988e+02, 7.9992e+02,\n",
       "       7.9996e+02]) * s"
      ]
     },
     "execution_count": 29,
     "metadata": {},
     "output_type": "execute_result"
    }
   ],
   "source": [
    "test_igor_read.times"
   ]
  },
  {
   "cell_type": "markdown",
   "id": "100554b6",
   "metadata": {},
   "source": [
    "<blockquote>\n",
    "\n",
    "3. Iterate over all `filenames` and read each IGOR file by using the following command:\n",
    "\n",
    "    `current_igor_read = io.IgorIO(filepath).read_analogsignal()`\n",
    "    \n",
    "    Plot each read IGOR trace into one figure by plotting `current_igor_read.times` vs. `current_igor_read`. Save this figure to disk. Adjust an appropriate figure aspect ratio and provide useful labels and legends.    \n",
    "4. In order to plot the average of all traces, we need to store each individual trace into a 2D numpy array, e.g. called `all_igor_reads`. Please recap our corresponding solution from Chapter 2.4, _Python pipeline for a basic time series analysis_ and apply it to the current problem. Then calculate the grand average over all traces within the same figure.\n",
    "</blockquote>"
   ]
  },
  {
   "cell_type": "code",
   "execution_count": null,
   "id": "1166bfd5",
   "metadata": {
    "code_folding": [],
    "scrolled": true
   },
   "outputs": [],
   "source": [
    "# Solution 2.3 and 2.4:\n",
    "all_igor_reads = np.empty((test_igor_read.shape[0], 0))\n",
    "\n",
    "fig = plt.figure(1, figsize=(10,4))\n",
    "plt.clf()\n",
    "# for i, file in enumerate(file_names):\n",
    "for file in file_names:\n",
    "\n",
    "    current_file = os.path.join(file_path, file)\n",
    "    current_igor_read = io.IgorIO(current_file).read_analogsignal()\n",
    "\n",
    "    all_igor_reads = \\\n",
    "      np.append(all_igor_reads, current_igor_read.as_array(), axis=1)\n",
    "\n",
    "    \"\"\" You can calculate the time-array manually,\n",
    "\n",
    "    current_sampling_rate=np.array(current_igor_read.sampling_rate)\n",
    "    current_time_array = np.arange(current_igor_read.shape[0]) /\n",
    "                            current_sampling_rate\n",
    "    plt.plot(current_time_array, current_igor_read, label=file)\n",
    "\n",
    "    or use the .times attribute of the read-in igor file:\n",
    "    \"\"\"\n",
    "    plt.plot(current_igor_read.times, current_igor_read, label=file)\n",
    "\n",
    "plt.plot(current_igor_read.times, all_igor_reads.mean(axis=1), lw=2.5, c=\"k\", label=\"avrg.\")\n",
    "plt.xlabel(\"time [s]\")\n",
    "plt.legend(loc=\"best\",fontsize=8)\n",
    "plt.tight_layout()\n",
    "plt.show()\n",
    "plt.savefig(file_path + \" overview.pdf\")"
   ]
  },
  {
   "cell_type": "markdown",
   "id": "63a3d15d",
   "metadata": {},
   "source": [
    "<blockquote>\n",
    "\n",
    "5. In order to kick-out traces without signifcant action potential spikings, we need to threshold the data: \n",
    "    - copy your solution from 2.3 and 2.4 into a new cell. \n",
    "    - rename the variable `all_igor_reads` into, e.g., `thresholed_igor_reads` and define a threshold `kick_out_threshold = -40`.\n",
    "    - change the plotting procedure in that way, that only traces with a maximum magnitude above `kick_out_threshold` are plotted.\n",
    "    - store these thresholded traces into the array `thresholed_igor_reads`.\n",
    "</blockquote>"
   ]
  },
  {
   "cell_type": "code",
   "execution_count": null,
   "id": "17b6d4af",
   "metadata": {
    "code_folding": [],
    "scrolled": true
   },
   "outputs": [],
   "source": [
    "# Solution 2.5\n"
   ]
  },
  {
   "cell_type": "markdown",
   "id": "b0202cde",
   "metadata": {},
   "source": [
    "<blockquote>\n",
    "\n",
    "6. In order to detect the prominent spikes in each trace, we will apply the `find_peaks` function from the `scipy` package: \n",
    "    - please make yourself a bit familiar with the `find_peaks` function on [scipy.org](https://docs.scipy.org/doc/scipy/reference/generated/scipy.signal.find_peaks.html).\n",
    "    - create a new cell and apply the `find_peaks` function to the previously thresholded traces stored in `thresholed_igor_reads`. Define a minimum threshold for the peak detection of `spike_threshold = -10`.\n",
    "</blockquote>"
   ]
  },
  {
   "cell_type": "code",
   "execution_count": null,
   "id": "39bf95ae",
   "metadata": {
    "code_folding": [],
    "scrolled": true
   },
   "outputs": [],
   "source": [
    "# Solution 2.6\n"
   ]
  }
 ],
 "metadata": {
  "finalized": {
   "timestamp": 1625786784236,
   "trusted": false
  },
  "hide_input": false,
  "kernelspec": {
   "display_name": "Python 3 (ipykernel)",
   "language": "python",
   "name": "python3"
  },
  "language_info": {
   "codemirror_mode": {
    "name": "ipython",
    "version": 3
   },
   "file_extension": ".py",
   "mimetype": "text/x-python",
   "name": "python",
   "nbconvert_exporter": "python",
   "pygments_lexer": "ipython3",
   "version": "3.9.5"
  },
  "toc": {
   "base_numbering": 1,
   "nav_menu": {},
   "number_sections": true,
   "sideBar": true,
   "skip_h1_title": true,
   "title_cell": "Python pipeline for IGOR recordings",
   "title_sidebar": "Contents",
   "toc_cell": true,
   "toc_position": {},
   "toc_section_display": true,
   "toc_window_display": false
  }
 },
 "nbformat": 4,
 "nbformat_minor": 5
}