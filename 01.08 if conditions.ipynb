{
 "cells": [
  {
   "cell_type": "markdown",
   "metadata": {
    "toc": true
   },
   "source": [
    "<h1>if conditions<span class=\"tocSkip\"></span></h1>\n",
    "<div class=\"toc\"><ul class=\"toc-item\"><li><span><a href=\"#Default-and-boolean-operators-in-Python\" data-toc-modified-id=\"Default-and-boolean-operators-in-Python-1\"><span class=\"toc-item-num\">1&nbsp;&nbsp;</span>Default and boolean operators in <em>Python</em></a></span></li><li><span><a href=\"#if-conditions\" data-toc-modified-id=\"if-conditions-2\"><span class=\"toc-item-num\">2&nbsp;&nbsp;</span><em>if</em>-conditions</a></span></li><li><span><a href=\"#Exercise-1\" data-toc-modified-id=\"Exercise-1-3\"><span class=\"toc-item-num\">3&nbsp;&nbsp;</span>Exercise 1</a></span></li><li><span><a href=\"#The-boolean-operator-in\" data-toc-modified-id=\"The-boolean-operator-in-4\"><span class=\"toc-item-num\">4&nbsp;&nbsp;</span>The boolean operator <code>in</code></a></span></li><li><span><a href=\"#Combine-if-statement-with-a-for-loop\" data-toc-modified-id=\"Combine-if-statement-with-a-for-loop-5\"><span class=\"toc-item-num\">5&nbsp;&nbsp;</span>Combine <em>if</em>-statement with a <em>for</em>-loop</a></span><ul class=\"toc-item\"><li><span><a href=\"#Exercise-2\" data-toc-modified-id=\"Exercise-2-5.1\"><span class=\"toc-item-num\">5.1&nbsp;&nbsp;</span>Exercise 2</a></span></li><li><span><a href=\"#Exercise-3\" data-toc-modified-id=\"Exercise-3-5.2\"><span class=\"toc-item-num\">5.2&nbsp;&nbsp;</span>Exercise 3</a></span></li></ul></li><li><span><a href=\"#Combine-if-statement-with-a-list-comprehension\" data-toc-modified-id=\"Combine-if-statement-with-a-list-comprehension-6\"><span class=\"toc-item-num\">6&nbsp;&nbsp;</span>Combine <em>if</em>-statement with a list comprehension</a></span></li></ul></div>"
   ]
  },
  {
   "cell_type": "markdown",
   "metadata": {},
   "source": [
    " ## Default and boolean operators in _Python_\n",
    " \n",
    " In the introductory chapters, you have already learned some of _Python_'s default operators. Here is a list of useful mathematical operators:\n",
    " \n",
    "| Operator             | Description                     |\n",
    "|:--------------------|:--------------------------------|\n",
    "| `+`, `-`, `*`, `/`   | addition, subtraction, multiplication, division  |\n",
    "| `//`                 | integer division                |\n",
    "| `%`                  | modulo (“rest“ of a division)   |\n",
    "| `-x`, `+x`           | sign                            |\n",
    "| `**`                 | exponentiation                  |"
   ]
  },
  {
   "cell_type": "markdown",
   "metadata": {},
   "source": [
    "Another class of operators are boolean (logical) operators:\n",
    "\n",
    "| Operator             | Description                       |\n",
    "|:---------------------|:----------------------------------|\n",
    "| `<`, `>`, `<=`, `>=` | comparison operators _is smaller/equal? bigger/equal?_ |\n",
    "| `==`                 | comparison operator _is equal?_   |\n",
    "| `!=`                 | comparison operator _is not equal?_ |\n",
    "| `or`, `and`, `not`   | boolean comparison operators      |\n",
    "| `in`                 | _is element of?_                  |\n",
    "\n",
    "\n"
   ]
  },
  {
   "cell_type": "markdown",
   "metadata": {
    "collapsed": true,
    "hide_input": false,
    "pycharm": {
     "name": "#%% md\n"
    }
   },
   "source": [
    "Examples:"
   ]
  },
  {
   "cell_type": "code",
   "execution_count": 3,
   "metadata": {
    "hide_input": true,
    "pycharm": {
     "name": "#%%\n"
    },
    "run_control": {
     "marked": true
    }
   },
   "outputs": [
    {
     "name": "stdout",
     "output_type": "stream",
     "text": [
      "2 < 5? True\n",
      "3 > 7? False\n",
      "x > 10? True\n",
      "2 * x < x? False\n"
     ]
    }
   ],
   "source": [
    "print(f\"2 < 5? {2 < 5}\")\n",
    "print(f\"3 > 7? {3 > 7}\")\n",
    "\n",
    "x = 11\n",
    "print(f\"x > 10? {x > 10}\")\n",
    "print(f\"2 * x < x? {2 * x < x}\")"
   ]
  },
  {
   "cell_type": "code",
   "execution_count": 4,
   "metadata": {},
   "outputs": [
    {
     "name": "stdout",
     "output_type": "stream",
     "text": [
      "type of 'True': <class 'bool'>\n"
     ]
    }
   ],
   "source": [
    "print(f\"type of 'True': {type(True)}\")"
   ]
  },
  {
   "cell_type": "markdown",
   "metadata": {
    "hide_input": true,
    "pycharm": {
     "name": "#%% md\n"
    }
   },
   "source": [
    "The boolean expressions `True` and `False` can be  used as any other common value in Python:"
   ]
  },
  {
   "cell_type": "code",
   "execution_count": 5,
   "metadata": {
    "pycharm": {
     "name": "#%%\n"
    },
    "run_control": {
     "marked": true
    }
   },
   "outputs": [
    {
     "name": "stdout",
     "output_type": "stream",
     "text": [
      ">>>\n",
      "type of my_variable: <class 'bool'>\n"
     ]
    }
   ],
   "source": [
    "my_variable = True\n",
    "print(f\"type of my_variable: {type(my_variable)}\")"
   ]
  },
  {
   "cell_type": "markdown",
   "metadata": {
    "pycharm": {
     "name": "#%% md\n"
    }
   },
   "source": [
    "## _if_-conditions\n",
    "We can further extend the usage of boolean comparison operators when it comes to decision making in your code, e.g., when you want to execute a certain code line (or lines) only if a certain condition is satisfied. For such decision making, the concept of _if_-statements is provided:\n",
    "\n",
    "```python\n",
    "if condition1:\n",
    "    action 1\n",
    "elif condition2:\n",
    "    action 2\n",
    "else:\n",
    "    action 3\n",
    "```\n",
    "\n",
    "We can use the previously introduced logical comparison operators to test a condition:\n",
    "\n",
    "```python\n",
    "    Equals:                     a == b, a in b\n",
    "    Not Equals:                 a != b, a not b\n",
    "    Less than:                  a < b\n",
    "    Less than or equal to:      a <= b\n",
    "    Greater than:               a > b\n",
    "    Greater than or equal to:   a >= b\n",
    "```\n",
    "\n",
    "For example:"
   ]
  },
  {
   "cell_type": "code",
   "execution_count": 10,
   "metadata": {
    "pycharm": {
     "name": "#%%\n"
    },
    "run_control": {
     "marked": true
    }
   },
   "outputs": [
    {
     "name": "stdout",
     "output_type": "stream",
     "text": [
      "failed: a and b are not equal\n"
     ]
    }
   ],
   "source": [
    "\"\"\" Change the value of a and b randomly and run this and \n",
    "    the subsequent cell:\n",
    "\"\"\"\n",
    "a=3\n",
    "b=7\n",
    "if a==b:\n",
    "    print('check: a and b are equal')\n",
    "else:\n",
    "    print('failed: a and b are not equal')"
   ]
  },
  {
   "cell_type": "code",
   "execution_count": 11,
   "metadata": {
    "pycharm": {
     "name": "#%%\n"
    },
    "run_control": {
     "marked": true
    }
   },
   "outputs": [
    {
     "name": "stdout",
     "output_type": "stream",
     "text": [
      "failed: a is not greater than b\n"
     ]
    }
   ],
   "source": [
    "if a>b:\n",
    "    print('check: a is greater than b')\n",
    "else:\n",
    "    print('failed: a is not greater than b')"
   ]
  },
  {
   "cell_type": "markdown",
   "metadata": {
    "pycharm": {
     "name": "#%% md\n"
    }
   },
   "source": [
    "You can also combine several conditions:"
   ]
  },
  {
   "cell_type": "code",
   "execution_count": 12,
   "metadata": {
    "pycharm": {
     "name": "#%%\n"
    },
    "run_control": {
     "marked": true
    }
   },
   "outputs": [
    {
     "name": "stdout",
     "output_type": "stream",
     "text": [
      "a is lower than b\n"
     ]
    }
   ],
   "source": [
    "if a>b:\n",
    "    print('a is greater than b')\n",
    "elif a<b:\n",
    "    print('a is lower than b')\n",
    "elif a==b:\n",
    "    print('a and b are equal')"
   ]
  },
  {
   "cell_type": "markdown",
   "metadata": {
    "pycharm": {
     "name": "#%% md\n"
    }
   },
   "source": [
    "Also, you can concatenate several conditions by combining two conditions with the comparison operators `and` or `or`:\n",
    "\n",
    "```python\n",
    "    if (condition1) and/or (condition 2):\n",
    "        action 1\n",
    "    elif (condition3) and/or (condition 4):\n",
    "        action 2\n",
    "```\n",
    "\n",
    "For example:"
   ]
  },
  {
   "cell_type": "code",
   "execution_count": 13,
   "metadata": {
    "pycharm": {
     "name": "#%%\n"
    }
   },
   "outputs": [
    {
     "name": "stdout",
     "output_type": "stream",
     "text": [
      "a is in not between b and c, \n",
      "  but lower than c\n"
     ]
    }
   ],
   "source": [
    "# Change the value of c randomly and run this cell:\n",
    "c=11\n",
    "if (a>b) and (a<c):\n",
    "    print('a is in the interval between b and c')\n",
    "else:\n",
    "    if a>b:\n",
    "        print('a is in not between b and c, ')\n",
    "        print('  but greater than b')\n",
    "    elif a<c:\n",
    "        print('a is in not between b and c, ')\n",
    "        print('  but lower than c')\n",
    "    else:\n",
    "        print('a is in not between b and c, ')"
   ]
  },
  {
   "cell_type": "markdown",
   "metadata": {},
   "source": [
    "<div class=\"alert alert-block alert-info\">\n",
    "<b>Note:</b> As for for-loops, Python relies on indentation (whitespace at the beginning of a line) to define scope in the code. The if-block (as well as the for-loop-block) does not require a specific \"end\"-indicator, just un-indent after you finished the block.\n",
    "</div>"
   ]
  },
  {
   "cell_type": "markdown",
   "metadata": {
    "pycharm": {
     "name": "#%% md\n"
    }
   },
   "source": [
    "## Exercise 1\n",
    "\n",
    "Write a script, that uses the following code line in order to set the value `number_of_moves`:\n",
    "\n",
    "```python\n",
    "number_of_moves = int(input(\"How many times have you moved in your life?? \"))\n",
    "```\n",
    "\n",
    "Write an _if_-statement, that checks the input `number_of_moves` and gives out the following responses:\n",
    "\n",
    "* \"_You're quite a globetrotter._\", if `number_of_moves` is greater than 9.\n",
    "* \"_You have come around a lot._\", if `number_of_moves` is greater than 7 and less than or equal 9.\n",
    "* \"_Your moving rate corresponds to the national average._\", if  `number_of_moves` is greater than 3 and less than or equal 7.\n",
    "* \"_You are a settled person._\", if the `number_of_moves` is less than or equal 3.\n",
    "\n",
    "Execute your code several time and change your input number."
   ]
  },
  {
   "cell_type": "code",
   "execution_count": 7,
   "metadata": {},
   "outputs": [
    {
     "name": "stdout",
     "output_type": "stream",
     "text": [
      ">>>\n",
      "How many times have you moved in your life?? 1\n",
      "You are a settled person!\n"
     ]
    }
   ],
   "source": [
    "# Your solution 1 here:\n"
   ]
  },
  {
   "cell_type": "markdown",
   "metadata": {},
   "source": [
    "<details>\n",
    "<summary><strong>Toggle solution</strong></summary>\n",
    "\n",
    "```python\n",
    "# Solution 1:\n",
    "number_of_moves = int(input(\"How many times have you moved in your life?? \"))\n",
    "if number_of_moves>9:\n",
    "    print(\"You're quite a globetrotter!\")\n",
    "elif (number_of_moves>7) and (number_of_moves<=9):\n",
    "    print(\"You have come around a lot!\")\n",
    "elif (number_of_moves>3) and (number_of_moves<=7):\n",
    "    print(\"Your moving rate corresponds to the national average!\")\n",
    "elif (number_of_moves<=3):\n",
    "    print(\"You are a settled person!\")\n",
    "``` \n",
    "<script src=\"https://gist.github.com/username/a39a422ebdff6e732753b90573100b16.js\"></script>\n",
    "</details>"
   ]
  },
  {
   "cell_type": "markdown",
   "metadata": {
    "pycharm": {
     "name": "#%% md\n"
    }
   },
   "source": [
    "## The boolean operator `in`\n",
    "There are also boolean operators that are applied to types others than numbers. A useful Boolean operator is `in`, checking membership in a sequence:"
   ]
  },
  {
   "cell_type": "code",
   "execution_count": 1,
   "metadata": {
    "pycharm": {
     "name": "#%%\n"
    }
   },
   "outputs": [
    {
     "name": "stdout",
     "output_type": "stream",
     "text": [
      "99 is in number_list\n"
     ]
    }
   ],
   "source": [
    "# with a number list:\n",
    "number_list = [3, 4, 0, 5, 2, 99, 4, 99]\n",
    "check_number=99\n",
    "if check_number in number_list:\n",
    "    print(f\"{check_number} is in number_list\")\n",
    "else:\n",
    "    print(f\"{check_number} is not in number_list\")"
   ]
  },
  {
   "cell_type": "code",
   "execution_count": 2,
   "metadata": {
    "pycharm": {
     "name": "#%%\n"
    }
   },
   "outputs": [
    {
     "name": "stdout",
     "output_type": "stream",
     "text": [
      "Harry is member of word_list\n"
     ]
    }
   ],
   "source": [
    "# with a word list:\n",
    "word_list = ['Toto', 'Harry', 'Mickey']\n",
    "check_word= \"Harry\"\n",
    "if check_word in word_list:\n",
    "    print(f\"{check_word} is member of word_list\")\n",
    "else:\n",
    "    print(f\"{check_word} is not member of word_list\")"
   ]
  },
  {
   "cell_type": "markdown",
   "metadata": {
    "pycharm": {
     "name": "#%% md\n"
    }
   },
   "source": [
    "I.e., with the `in`-operator you can easily check, e.g., whether a certain string is part another string-sequence."
   ]
  },
  {
   "cell_type": "markdown",
   "metadata": {
    "pycharm": {
     "name": "#%% md\n"
    }
   },
   "source": [
    "## Combine _if_-statement with a _for_-loop\n",
    "\n",
    "Of course we can combine _if_-statements with a _for_-loop (and vice versa):"
   ]
  },
  {
   "cell_type": "markdown",
   "metadata": {},
   "source": [
    "### Exercise 2\n",
    "\n",
    "Given the list `agents=[\"James Bond (007)\", \"Austin Powers (007)\", \"Hubert Bonisseur, (117)\"]`,  write a _for_-loop, that iterates over each of its elements and checks, if the current agent has a 007-license."
   ]
  },
  {
   "cell_type": "code",
   "execution_count": 23,
   "metadata": {},
   "outputs": [
    {
     "name": "stdout",
     "output_type": "stream",
     "text": [
      ">>>\n",
      "match! James Bond (007) has a 007 license.\n",
      "match! Austin Powers (007) has a 007 license.\n",
      "warning! Hubert Bonisseur, (117) has no 007 license!\n"
     ]
    }
   ],
   "source": [
    "# Your solution 2 here:\n"
   ]
  },
  {
   "cell_type": "markdown",
   "metadata": {},
   "source": [
    "<details>\n",
    "<summary><strong>Toggle solution</strong></summary>\n",
    "\n",
    "```python\n",
    "# Solution 2:\n",
    "agents=[\"James Bond (007)\", \"Austin Powers (007)\", \"Hubert Bonisseur, (117)\"]\n",
    "string_to_check = \"007\"\n",
    "for agent in agents:\n",
    "    if string_to_check in agent:\n",
    "        print(f\"match! {agent} has a {string_to_check} license.\")\n",
    "    else:\n",
    "        print(f\"warning! {agent} has no {string_to_check} license!\")\n",
    "``` \n",
    "</details>"
   ]
  },
  {
   "cell_type": "markdown",
   "metadata": {},
   "source": [
    "### Exercise 3\n",
    "\n",
    "1. Create a `new_number_list` ranging from 0 to 22 (use the `list()` and `range()` commands).\n",
    "2. Write a _for_-loop, that iterates over each element of `new_number_list`.\n",
    "3. Within the _for_-loop, set up an _if_-condition, that prints out the current `new_umber_list`-element, if its value is higher than 10, otherwise print out \"value below threshold\".\n",
    "4. Change the threshold to any other number between 0 and 22 and re-run your script."
   ]
  },
  {
   "cell_type": "code",
   "execution_count": 24,
   "metadata": {},
   "outputs": [
    {
     "name": "stdout",
     "output_type": "stream",
     "text": [
      ">>>\n",
      "0 is below the threshold 10!\n",
      "1 is below the threshold 10!\n",
      "2 is below the threshold 10!\n",
      "3 is below the threshold 10!\n",
      "4 is below the threshold 10!\n",
      "5 is below the threshold 10!\n",
      "6 is below the threshold 10!\n",
      "7 is below the threshold 10!\n",
      "8 is below the threshold 10!\n",
      "9 is below the threshold 10!\n",
      "10 is below the threshold 10!\n",
      "match! 11 is greater than 10.\n",
      "match! 12 is greater than 10.\n",
      "match! 13 is greater than 10.\n",
      "match! 14 is greater than 10.\n",
      "match! 15 is greater than 10.\n",
      "match! 16 is greater than 10.\n",
      "match! 17 is greater than 10.\n",
      "match! 18 is greater than 10.\n",
      "match! 19 is greater than 10.\n",
      "match! 20 is greater than 10.\n",
      "match! 21 is greater than 10.\n"
     ]
    }
   ],
   "source": [
    "# Your solution 3 here:\n"
   ]
  },
  {
   "cell_type": "markdown",
   "metadata": {},
   "source": [
    "<details>\n",
    "<summary><strong>Toggle solution</strong></summary>\n",
    "\n",
    "```python\n",
    "# Solution 3:\n",
    "new_number_list = list(range(0,22,1))\n",
    "threshold = 10\n",
    "for number in new_number_list:\n",
    "    if number>threshold:\n",
    "        print(f\"match! {number} is greater than {threshold}.\")\n",
    "    else:\n",
    "        print(f\"{number} is below the threshold {threshold}!\")\n",
    "``` \n",
    "</details>"
   ]
  },
  {
   "cell_type": "markdown",
   "metadata": {
    "pycharm": {
     "name": "#%% md\n"
    }
   },
   "source": [
    "## Combine _if_-statement with a list comprehension"
   ]
  },
  {
   "cell_type": "markdown",
   "metadata": {},
   "source": [
    "Please read in the _for_-loop chapter about list comprehension. \n",
    "\n",
    "Before we combine an _if_-statement with a _for_-loop within a list comprehension, let's approach this goal stepwise:"
   ]
  },
  {
   "cell_type": "code",
   "execution_count": 17,
   "metadata": {
    "pycharm": {
     "name": "#%%\n"
    }
   },
   "outputs": [
    {
     "name": "stdout",
     "output_type": "stream",
     "text": [
      ">>>\n",
      "[(0, 4), (1, 8), (2, 12), (3, 16), (4, 20), (5, 32), (6, 28), (7, 24), (8, -1), (9, 32), (10, 32)]\n"
     ]
    }
   ],
   "source": [
    "my_list=[4, 8, 12, 16, 20, 32, 28, 24, -1, 32, 32]\n",
    "number_to_check = 12\n",
    "\n",
    "# list comprehension with for-loop (pre-step, just to understand, \n",
    "#   what's going on):\n",
    "#print([i for i, val in enumerate(my_list)] )\n",
    "#print([val for i, val in enumerate(my_list)] )\n",
    "print([(i, val) for i, val in enumerate(my_list)] )"
   ]
  },
  {
   "cell_type": "code",
   "execution_count": 19,
   "metadata": {
    "scrolled": true
   },
   "outputs": [
    {
     "name": "stdout",
     "output_type": "stream",
     "text": [
      ">>>\n",
      "[(2, 12)]\n"
     ]
    }
   ],
   "source": [
    "# list comprehension with for-loop and if-statement:\n",
    "print([(i, val) for i, val in enumerate(my_list) #artificial line break\n",
    "       if val==number_to_check])"
   ]
  },
  {
   "cell_type": "code",
   "execution_count": 20,
   "metadata": {},
   "outputs": [
    {
     "name": "stdout",
     "output_type": "stream",
     "text": [
      ">>>\n",
      "2 12\n"
     ]
    }
   ],
   "source": [
    "# vs. conventional for-loop and if-statements:\n",
    "for i, val in enumerate(my_list):\n",
    "    if val == number_to_check:\n",
    "        print(i, val)"
   ]
  },
  {
   "cell_type": "markdown",
   "metadata": {},
   "source": [
    "<div class=\"alert alert-block alert-info\">\n",
    "<b>Note:</b> We have introduced the linebreak within a command definition via \"\\\" + enter into the new line. Most python IDEs will then auto-indent the new line to some extend. For the code itself, it is not necessary to add a linebreak - it only to makes the code userfriendly readable (if neccessary).\n",
    "</div>"
   ]
  }
 ],
 "metadata": {
  "hide_input": false,
  "kernelspec": {
   "display_name": "Python 3 (ipykernel)",
   "language": "python",
   "name": "python3"
  },
  "language_info": {
   "codemirror_mode": {
    "name": "ipython",
    "version": 3
   },
   "file_extension": ".py",
   "mimetype": "text/x-python",
   "name": "python",
   "nbconvert_exporter": "python",
   "pygments_lexer": "ipython3",
   "version": "3.9.5"
  },
  "toc": {
   "base_numbering": 1,
   "nav_menu": {},
   "number_sections": true,
   "sideBar": true,
   "skip_h1_title": true,
   "title_cell": "if conditions",
   "title_sidebar": "Contents",
   "toc_cell": true,
   "toc_position": {},
   "toc_section_display": true,
   "toc_window_display": false
  },
  "varInspector": {
   "cols": {
    "lenName": 16,
    "lenType": 16,
    "lenVar": 40
   },
   "kernels_config": {
    "python": {
     "delete_cmd_postfix": "",
     "delete_cmd_prefix": "del ",
     "library": "var_list.py",
     "varRefreshCmd": "print(var_dic_list())"
    },
    "r": {
     "delete_cmd_postfix": ") ",
     "delete_cmd_prefix": "rm(",
     "library": "var_list.r",
     "varRefreshCmd": "cat(var_dic_list()) "
    }
   },
   "types_to_exclude": [
    "module",
    "function",
    "builtin_function_or_method",
    "instance",
    "_Feature"
   ],
   "window_display": false
  }
 },
 "nbformat": 4,
 "nbformat_minor": 1
}