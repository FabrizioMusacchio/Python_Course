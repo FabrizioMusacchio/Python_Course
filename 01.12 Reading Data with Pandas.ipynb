{
 "cells": [
  {
   "cell_type": "markdown",
   "metadata": {
    "toc": true
   },
   "source": [
    "<h1>Reading Data with Pandas<span class=\"tocSkip\"></span></h1>\n",
    "<div class=\"toc\"><ul class=\"toc-item\"><li><span><a href=\"#Exercise-1\" data-toc-modified-id=\"Exercise-1-1\"><span class=\"toc-item-num\">1&nbsp;&nbsp;</span>Exercise 1</a></span></li></ul></div>"
   ]
  },
  {
   "cell_type": "markdown",
   "metadata": {},
   "source": [
    " "
   ]
  },
  {
   "cell_type": "markdown",
   "metadata": {},
   "source": [
    "The so-called **_Pandas_** **DataFrame** is kind of a representation of tables in Python, which has - similar to a 2D _NumPy_ array - rows and columns, that can be directly accessed via their column names, called `key` (similar to the keys of dictionaries), instead of using an index value (which is also possible). The _Pandas_ DataFrame comes with the _Pandas_ package: [pandas.pydata.org/docs](https://pandas.pydata.org/docs/)."
   ]
  },
  {
   "cell_type": "markdown",
   "metadata": {},
   "source": [
    "<figure class=\"image\">\n",
    "  <img src=\"img/pandas.png\" alt=\"Pandas Logo\" style=\"width: 30%;\">\n",
    "  <figcaption>The Pandas logo. Copyright © 2008 AQR Capital Management, LLC, Lambda Foundry, Inc. and PyData Development Team. (<a href=\"https://commons.wikimedia.org/wiki/File:Pandas_logo.svg\">commons.wikimedia.org</a>) </figcaption>\n",
    "</figure>"
   ]
  },
  {
   "cell_type": "markdown",
   "metadata": {},
   "source": [
    "The scope of what we can do with _Pandas_ is huge. Originally from the financial world, _Pandas_ offers powerful spreadsheet tools (labeled columns and rows, descriptive statistics, pivoting, filtering and grouping, built-in plot functions - just to name a few). We can not go into detail here, but we will make use of _Pandas_' very handy _Excel_ file import function `pd.read_excel(path_to_file, index_col=0)`:"
   ]
  },
  {
   "cell_type": "code",
   "execution_count": null,
   "metadata": {},
   "outputs": [],
   "source": [
    "import pandas as pd\n",
    "import os # enables Operating System functions within Python\n",
    "\n",
    "import numpy as np\n",
    "import matplotlib.pyplot as plt\n",
    "\n",
    "# Define file paths:\n",
    "file_path = \"Data/Pandas_1/\"\n",
    "\n",
    "\"\"\" file_path is the main root path. Adjust this to \n",
    "    the absolute path to your Data/Pandas_1/ folder\n",
    "    or put all Excel files into your script's folder \n",
    "    and set file_path = \"\"\n",
    "    \n",
    "    e.g. absolute path:\n",
    "    file_path = \"/Users/husker/Science/Python/Projekte/Python Course/Data/Pandas_1\"\n",
    "\"\"\"\n",
    "\n",
    "file_name_1 = \"Group_A_data.xls\"\n",
    "file_name_2 = \"Group_B_data.xls\"\n",
    "\n",
    "#file_1 = file_path+file_name_1\n",
    "file_1 = os.path.join(file_path, file_name_1) \n",
    "file_2 = os.path.join(file_path, file_name_2)\n",
    "\n",
    "\"\"\" The os.path.join() command just sticks the different \n",
    "    file-path components together. You can also just write\n",
    "    file_1 = file_path + file_name_1\n",
    "    file_2 = file_path + file_name_2\n",
    "\"\"\"\n",
    "\n",
    "# Read the Excel files with Pandas into a Pandas Dataframe:\n",
    "Group_A_df = pd.read_excel(file_1, index_col=0)\n",
    "Group_B_df = pd.read_excel(file_2, index_col=0)"
   ]
  },
  {
   "cell_type": "code",
   "execution_count": null,
   "metadata": {},
   "outputs": [],
   "source": [
    "#print( file_path+file_name_1)\n",
    "print(file_1)"
   ]
  },
  {
   "cell_type": "code",
   "execution_count": null,
   "metadata": {
    "scrolled": true
   },
   "outputs": [],
   "source": [
    "Group_A_df"
   ]
  },
  {
   "cell_type": "code",
   "execution_count": null,
   "metadata": {
    "scrolled": true
   },
   "outputs": [],
   "source": [
    "display(Group_A_df)"
   ]
  },
  {
   "cell_type": "code",
   "execution_count": null,
   "metadata": {
    "scrolled": true
   },
   "outputs": [],
   "source": [
    "print(Group_A_df)"
   ]
  },
  {
   "cell_type": "code",
   "execution_count": null,
   "metadata": {
    "scrolled": true
   },
   "outputs": [],
   "source": [
    "Group_A_df[\"Data\"]"
   ]
  },
  {
   "cell_type": "markdown",
   "metadata": {},
   "source": [
    "The two _Excel_ files are imported as DataFrames into `Group_A_df` and `Group_B_df`, respectively. Next, we extract the DataFrame data into two _NumPy_ arrays:"
   ]
  },
  {
   "cell_type": "code",
   "execution_count": null,
   "metadata": {
    "scrolled": true
   },
   "outputs": [],
   "source": [
    "# Extracting the DataFrame import data:\n",
    "Group_A = Group_A_df[\"Data\"].values\n",
    "Group_B = Group_B_df[\"Data\"].values"
   ]
  },
  {
   "cell_type": "code",
   "execution_count": null,
   "metadata": {
    "scrolled": true
   },
   "outputs": [],
   "source": [
    "print(Group_A)\n",
    "print(type(Group_A))"
   ]
  },
  {
   "cell_type": "code",
   "execution_count": null,
   "metadata": {},
   "outputs": [],
   "source": [
    "Group_A_df.median()"
   ]
  },
  {
   "cell_type": "code",
   "execution_count": null,
   "metadata": {},
   "outputs": [],
   "source": [
    "np.median(Group_A)"
   ]
  },
  {
   "cell_type": "code",
   "execution_count": null,
   "metadata": {
    "scrolled": true
   },
   "outputs": [],
   "source": [
    "# Concatenate the two data columns:\n",
    "#print(np.array([Group_A_df.values, Group_B_df.values]).T.shape)\n",
    "np.array([Group_A_df.values, Group_B_df.values]).T"
   ]
  },
  {
   "cell_type": "code",
   "execution_count": null,
   "metadata": {
    "scrolled": true
   },
   "outputs": [],
   "source": [
    "# create a new merged dataframe from Group_A and Group_B:\n",
    "pd.DataFrame(data=np.array([Group_A_df.values, Group_B_df.values]).T[0,:,:])"
   ]
  },
  {
   "cell_type": "markdown",
   "metadata": {},
   "source": [
    "We can apply any operation to the two _NumPy_ arrays `Group_A` and `Group_B`, that we have previously learned in the _NumPy_ chapter. By redefining our previous plot script from the _Matplotlib_ chapter (Exercise 2 there), we are able to re-run the entire script, now applied to the imported _Excel_ data:"
   ]
  },
  {
   "cell_type": "markdown",
   "metadata": {},
   "source": [
    "## Exercise 1\n",
    "\n",
    "1. Copy your solution from Exercise 3 from the _Matplotlib_ chapter into a new script.\n",
    "2. Add the _Pandas_ _Excel_ file import commands from above to your script. \n",
    "3. Uncomment or redefine your `Group_A` and `Groud_B` variable definitions according to:\n",
    "    ```\n",
    "        Group_A = Group_A_df[\"Data\"].values\n",
    "        Group_B = Group_B_df[\"Data\"].values\n",
    "    ```\n",
    "4. Run your new script. \n",
    "5. Now, instead of reading the file \"Group_B_data.xls\", read \"Group_B2_data.xls\" as Group B data and re-run your script"
   ]
  },
  {
   "cell_type": "code",
   "execution_count": null,
   "metadata": {},
   "outputs": [],
   "source": []
  },
  {
   "cell_type": "code",
   "execution_count": 1,
   "metadata": {
    "scrolled": false
   },
   "outputs": [
    {
     "data": {
      "image/png": "[encoded data removed]",
      "text/plain": [
       "<Figure size 640x480 with 1 Axes>"
      ]
     },
     "metadata": {},
     "output_type": "display_data"
    },
    {
     "data": {
      "image/png": "[encoded data removed]",
      "text/plain": [
       "<Figure size 500x600 with 1 Axes>"
      ]
     },
     "metadata": {},
     "output_type": "display_data"
    },
    {
     "data": {
      "text/plain": [
       "<function matplotlib.pyplot.tight_layout(*, pad=1.08, h_pad=None, w_pad=None, rect=None)>"
      ]
     },
     "execution_count": 1,
     "metadata": {},
     "output_type": "execute_result"
    },
    {
     "data": {
      "image/png": "[encoded data removed]",
      "text/plain": [
       "<Figure size 500x600 with 1 Axes>"
      ]
     },
     "metadata": {},
     "output_type": "display_data"
    }
   ],
   "source": [
    "# Your solution 1 here:\n"
   ]
  },
  {
   "cell_type": "markdown",
   "metadata": {
    "code_folding": []
   },
   "source": [
    "<details>\n",
    "<summary><strong>Toggle solution</strong></summary>\n",
    "\n",
    "```python\n",
    "# Solution 1:\n",
    "import pandas as pd\n",
    "import os\n",
    "\n",
    "import numpy as np\n",
    "import matplotlib.pyplot as plt\n",
    "import pingouin as pg\n",
    "\n",
    "# Define file paths:\n",
    "file_path = \"Data/Pandas_1/\"\n",
    "file_name_1 = \"Group_A_data.xls\"\n",
    "file_name_2 = \"Group_B2_data.xls\"\n",
    "\n",
    "file_1 = os.path.join(file_path, file_name_1)\n",
    "file_2 = os.path.join(file_path, file_name_2)\n",
    "\n",
    "# Read the Excel files with Pandas into a Pandas Dataframe:\n",
    "Group_A_df = pd.read_excel(file_1, index_col=0)\n",
    "Group_B_df = pd.read_excel(file_2, index_col=0)\n",
    "\n",
    "# Broadcast the DataFrame data into the approproate variables:\n",
    "Group_A = Group_A_df[\"Data\"].values\n",
    "Group_B = Group_B_df[\"Data\"].values\n",
    "\n",
    "\n",
    "\"\"\" The following code is simply your copied solution from the \n",
    "    Matplotlib Exercise:\n",
    "\"\"\"\n",
    "\n",
    "# BAR-PLOT\n",
    "fig=plt.figure(1)\n",
    "fig.clf()\n",
    "\n",
    "plt.bar([1, 2], [Group_A.mean(), Group_B.mean()])\n",
    "\n",
    "plt.xticks([1,2], labels=[\"A\", \"B\"])\n",
    "plt.xlabel(\"Groups\")\n",
    "plt.ylabel(\"measurements\")\n",
    "plt.title(\"Bar-plot of group averages\")\n",
    "\n",
    "plt.tight_layout\n",
    "plt.show()\n",
    "fig.savefig(\"barplot with data.pdf\", dpi=120)\n",
    "\n",
    "\n",
    "# BOX-PLOTS:\n",
    "fig=plt.figure(2, figsize=(5,6))\n",
    "fig.clf()\n",
    "\n",
    "plt.boxplot([Group_A, Group_B])\n",
    "\n",
    "plt.xticks([1,2], labels=[\"A\", \"B\"])\n",
    "plt.xlabel(\"Groups\")\n",
    "plt.ylabel(\"measurements\")\n",
    "plt.title(\"Boxplot diagram\")\n",
    "plt.tight_layout\n",
    "plt.show()\n",
    "fig.savefig(\"boxplot with data.pdf\", dpi=120)\n",
    "\n",
    "\n",
    "# VIOLIN-PLOTS:\n",
    "fig=plt.figure(3, figsize=(5,6))\n",
    "fig.clf()\n",
    "\n",
    "plt.violinplot([Group_A, Group_B], showmedians=True)\n",
    "\n",
    "plt.xticks([1,2], labels=[\"A\", \"B\"])\n",
    "plt.xlabel(\"Groups\")\n",
    "plt.ylabel(\"measurements\")\n",
    "plt.title(\"Violin plot\")\n",
    "plt.tight_layout\n",
    "# plt.ylim(-40, 40)\n",
    "plt.show()\n",
    "fig.savefig(\"violinplot with data.pdf\", dpi=120)\n",
    "``` \n",
    "<script src=\"https://gist.github.com/username/a39a422ebdff6e732753b90573100b16.js\"></script>\n",
    "</details>"
   ]
  },
  {
   "cell_type": "code",
   "execution_count": null,
   "metadata": {},
   "outputs": [],
   "source": [
    "Group_A_df.mean()"
   ]
  },
  {
   "cell_type": "code",
   "execution_count": null,
   "metadata": {},
   "outputs": [],
   "source": [
    "Group_A_df.mean().values"
   ]
  },
  {
   "cell_type": "code",
   "execution_count": null,
   "metadata": {},
   "outputs": [],
   "source": [
    "Group_A_df.plot()"
   ]
  }
 ],
 "metadata": {
  "hide_input": false,
  "kernelspec": {
   "display_name": "Python 3",
   "language": "python",
   "name": "python3"
  },
  "language_info": {
   "codemirror_mode": {
    "name": "ipython",
    "version": 3
   },
   "file_extension": ".py",
   "mimetype": "text/x-python",
   "name": "python",
   "nbconvert_exporter": "python",
   "pygments_lexer": "ipython3",
   "version": "3.8.16"
  },
  "toc": {
   "base_numbering": 1,
   "nav_menu": {},
   "number_sections": true,
   "sideBar": true,
   "skip_h1_title": true,
   "title_cell": "Reading Data with Pandas",
   "title_sidebar": "Contents",
   "toc_cell": true,
   "toc_position": {},
   "toc_section_display": true,
   "toc_window_display": false
  },
  "varInspector": {
   "cols": {
    "lenName": 16,
    "lenType": 16,
    "lenVar": 40
   },
   "kernels_config": {
    "python": {
     "delete_cmd_postfix": "",
     "delete_cmd_prefix": "del ",
     "library": "var_list.py",
     "varRefreshCmd": "print(var_dic_list())"
    },
    "r": {
     "delete_cmd_postfix": ") ",
     "delete_cmd_prefix": "rm(",
     "library": "var_list.r",
     "varRefreshCmd": "cat(var_dic_list()) "
    }
   },
   "types_to_exclude": [
    "module",
    "function",
    "builtin_function_or_method",
    "instance",
    "_Feature"
   ],
   "window_display": false
  },
  "vscode": {
   "interpreter": {
    "hash": "4dbe93ddc4bed5499d29720f38f7446a34b15f2f3201b881b9bf1c1a4baa393f"
   }
  }
 },
 "nbformat": 4,
 "nbformat_minor": 4
}
