{
 "cells": [
  {
   "cell_type": "markdown",
   "metadata": {
    "toc": true
   },
   "source": [
    "<h1>Statistical Analysis with Pingouin<span class=\"tocSkip\"></span></h1>\n",
    "<div class=\"toc\"><ul class=\"toc-item\"><li><span><a href=\"#Exercise-1\" data-toc-modified-id=\"Exercise-1-1\"><span class=\"toc-item-num\">1&nbsp;&nbsp;</span>Exercise 1</a></span></li><li><span><a href=\"#Outlook\" data-toc-modified-id=\"Outlook-2\"><span class=\"toc-item-num\">2&nbsp;&nbsp;</span>Outlook</a></span></li></ul></div>"
   ]
  },
  {
   "cell_type": "markdown",
   "metadata": {},
   "source": [
    " "
   ]
  },
  {
   "cell_type": "markdown",
   "metadata": {},
   "source": [
    "[**_Pingouin_**](https://pingouin-stats.org) is a compact package that provides the most important test tools for a significance study. "
   ]
  },
  {
   "cell_type": "markdown",
   "metadata": {},
   "source": [
    "![img/pingouin.png](img/pingouin.png)"
   ]
  },
  {
   "cell_type": "markdown",
   "metadata": {},
   "source": [
    "<div class=\"alert alert-block alert-info\">\n",
    "<b>Info:</b> It is worth visiting the <i>Pingouin</i> website (follow link above). The website provides a very good overview of available significance tests and also a decision tree that helps selecting the correct test for the respective data set.\n",
    "</div>"
   ]
  },
  {
   "cell_type": "markdown",
   "metadata": {},
   "source": [
    "Screenshots from [pingouin-stats.org/guidelines.html](https://pingouin-stats.org/guidelines.html):\n",
    "![img/pingouin.png](img/pingouin_1.png)\n",
    "![img/pingouin.png](img/pingouin_2.png)"
   ]
  },
  {
   "cell_type": "markdown",
   "metadata": {},
   "source": [
    " "
   ]
  },
  {
   "cell_type": "markdown",
   "metadata": {},
   "source": [
    "Let's recap our last example from the _Pandas_ chapter:"
   ]
  },
  {
   "cell_type": "code",
   "execution_count": 15,
   "metadata": {},
   "outputs": [
    {
     "data": {
      "image/png": "[encoded data removed]",
      "text/plain": [
       "<Figure size 360x432 with 1 Axes>"
      ]
     },
     "metadata": {
      "needs_background": "light"
     },
     "output_type": "display_data"
    }
   ],
   "source": [
    "# Example from the Pandas chapter (just with the Violin plot):\n",
    "import pandas as pd\n",
    "import os\n",
    "\n",
    "import numpy as np\n",
    "import matplotlib.pyplot as plt\n",
    "import pingouin as pg\n",
    "\n",
    "# Define file paths:\n",
    "file_path = \"Data/Pandas_1/\"\n",
    "file_name_1 = \"Group_A_data.xls\"\n",
    "file_name_2 = \"Group_B_data.xls\"\n",
    "\n",
    "file_1 = os.path.join(file_path, file_name_1)\n",
    "file_2 = os.path.join(file_path, file_name_2)\n",
    "\n",
    "# Read the Excel files with Pandas into a Pandas Dataframe:\n",
    "Group_A_df = pd.read_excel(file_1, index_col=0)\n",
    "Group_B_df = pd.read_excel(file_2, index_col=0)\n",
    "\n",
    "# Broadcast the DataFrame data into the approproate variables:\n",
    "Group_A = Group_A_df[\"Data\"].values\n",
    "Group_B = Group_B_df[\"Data\"].values\n",
    "\n",
    "# VIOLIN-PLOTS:\n",
    "fig=plt.figure(3, figsize=(5,6))\n",
    "fig.clf()\n",
    "\n",
    "plt.violinplot([Group_A, Group_B], showmedians=True)\n",
    "\n",
    "plt.xticks([1,2], labels=[\"A\", \"B\"])\n",
    "plt.xlabel(\"Groups\")\n",
    "plt.ylabel(\"measurements\")\n",
    "plt.title(\"Violin plot\")\n",
    "plt.tight_layout\n",
    "# plt.ylim(-40, 40)\n",
    "plt.show()\n",
    "fig.savefig(\"violinplot with data.pdf\", dpi=120)"
   ]
  },
  {
   "cell_type": "markdown",
   "metadata": {},
   "source": [
    "We now want to know, whether the difference between the two groups is significant or not. Let's assume, that our data is normally distributed and the two samples are independent. The corresponding test would be an unpaired, two-sample student's t-test. The corresponding _Pingouin_ command is the following:"
   ]
  },
  {
   "cell_type": "code",
   "execution_count": 35,
   "metadata": {
    "scrolled": true
   },
   "outputs": [
    {
     "data": {
      "text/html": [
       "<div>\n",
       "<style scoped>\n",
       "    .dataframe tbody tr th:only-of-type {\n",
       "        vertical-align: middle;\n",
       "    }\n",
       "\n",
       "    .dataframe tbody tr th {\n",
       "        vertical-align: top;\n",
       "    }\n",
       "\n",
       "    .dataframe thead th {\n",
       "        text-align: right;\n",
       "    }\n",
       "</style>\n",
       "<table border=\"1\" class=\"dataframe\">\n",
       "  <thead>\n",
       "    <tr style=\"text-align: right;\">\n",
       "      <th></th>\n",
       "      <th>T</th>\n",
       "      <th>dof</th>\n",
       "      <th>tail</th>\n",
       "      <th>p-val</th>\n",
       "      <th>CI95%</th>\n",
       "      <th>cohen-d</th>\n",
       "      <th>BF10</th>\n",
       "      <th>power</th>\n",
       "    </tr>\n",
       "  </thead>\n",
       "  <tbody>\n",
       "    <tr>\n",
       "      <th>T-test</th>\n",
       "      <td>1.154936</td>\n",
       "      <td>98</td>\n",
       "      <td>two-sided</td>\n",
       "      <td>0.250925</td>\n",
       "      <td>[-2.19, 8.28]</td>\n",
       "      <td>0.230987</td>\n",
       "      <td>0.381</td>\n",
       "      <td>0.208113</td>\n",
       "    </tr>\n",
       "  </tbody>\n",
       "</table>\n",
       "</div>"
      ],
      "text/plain": [
       "               T  dof       tail     p-val          CI95%   cohen-d   BF10  \\\n",
       "T-test  1.154936   98  two-sided  0.250925  [-2.19, 8.28]  0.230987  0.381   \n",
       "\n",
       "           power  \n",
       "T-test  0.208113  "
      ]
     },
     "metadata": {},
     "output_type": "display_data"
    }
   ],
   "source": [
    "test_result = pg.ttest(Group_A, Group_B, paired=False)\n",
    "#print(test_result)\n",
    "display(test_result)"
   ]
  },
  {
   "cell_type": "markdown",
   "metadata": {},
   "source": [
    "As we can see, the output of this _Pingouin_ command is not just a single value, e.g., the _p_-value, but a table. To be more correct, this table actually is a _Pandas_ DataFrame. Besides the _p_-value (`p-val`), the DataFrame contains other useful statistical properties:\n",
    "- `T` : _T_-value\n",
    "- `p-val` : _p_-value\n",
    "- `dof` : degrees of freedom\n",
    "- `cohen-d` : Cohen's _d_ effect size\n",
    "- `CI95%` : 95% confidence intervals of the difference in means\n",
    "- `power` : achieved power of the test ( = 1 - type II error)\n",
    "- `BF10` : Bayes Factor of the alternative hypothesis"
   ]
  },
  {
   "cell_type": "markdown",
   "metadata": {},
   "source": [
    "Note, that for DataFrames with many keys, by default the `print` command doesn't print out all of them. To get a list of all available keys, use the command `DataFrame.keys()`:"
   ]
  },
  {
   "cell_type": "code",
   "execution_count": 36,
   "metadata": {
    "scrolled": true
   },
   "outputs": [
    {
     "name": "stdout",
     "output_type": "stream",
     "text": [
      "Index(['T', 'dof', 'tail', 'p-val', 'CI95%', 'cohen-d', 'BF10', 'power'], dtype='object')\n"
     ]
    }
   ],
   "source": [
    "# applied to our test_result-DataFrame:\n",
    "print(test_result.keys())"
   ]
  },
  {
   "cell_type": "markdown",
   "metadata": {},
   "source": [
    "To access the data of a specific key, just use the same syntax as for dictionaries and add \"`.values`\" in order to \"extract\" the value from the DataFrame structure:"
   ]
  },
  {
   "cell_type": "code",
   "execution_count": 37,
   "metadata": {},
   "outputs": [
    {
     "name": "stdout",
     "output_type": "stream",
     "text": [
      "the p-value of our test is: [0.25092508]\n"
     ]
    }
   ],
   "source": [
    "print(f\"the p-value of our test is:\", \n",
    "      f\"{test_result['p-val'].values}\")"
   ]
  },
  {
   "cell_type": "code",
   "execution_count": 38,
   "metadata": {},
   "outputs": [
    {
     "data": {
      "text/html": [
       "<div>\n",
       "<style scoped>\n",
       "    .dataframe tbody tr th:only-of-type {\n",
       "        vertical-align: middle;\n",
       "    }\n",
       "\n",
       "    .dataframe tbody tr th {\n",
       "        vertical-align: top;\n",
       "    }\n",
       "\n",
       "    .dataframe thead th {\n",
       "        text-align: right;\n",
       "    }\n",
       "</style>\n",
       "<table border=\"1\" class=\"dataframe\">\n",
       "  <thead>\n",
       "    <tr style=\"text-align: right;\">\n",
       "      <th></th>\n",
       "      <th>T</th>\n",
       "      <th>dof</th>\n",
       "      <th>tail</th>\n",
       "      <th>p-val</th>\n",
       "      <th>CI95%</th>\n",
       "      <th>cohen-d</th>\n",
       "      <th>BF10</th>\n",
       "      <th>power</th>\n",
       "    </tr>\n",
       "  </thead>\n",
       "  <tbody>\n",
       "    <tr>\n",
       "      <th>T-test</th>\n",
       "      <td>1.154936</td>\n",
       "      <td>98</td>\n",
       "      <td>two-sided</td>\n",
       "      <td>0.250925</td>\n",
       "      <td>[-2.19, 8.28]</td>\n",
       "      <td>0.230987</td>\n",
       "      <td>0.381</td>\n",
       "      <td>0.208113</td>\n",
       "    </tr>\n",
       "  </tbody>\n",
       "</table>\n",
       "</div>"
      ],
      "text/plain": [
       "               T  dof       tail     p-val          CI95%   cohen-d   BF10  \\\n",
       "T-test  1.154936   98  two-sided  0.250925  [-2.19, 8.28]  0.230987  0.381   \n",
       "\n",
       "           power  \n",
       "T-test  0.208113  "
      ]
     },
     "metadata": {},
     "output_type": "display_data"
    }
   ],
   "source": [
    "# Just recently explored: There is the display-command,\n",
    "# that always prints out Pandas tables/DataFrames in \n",
    "# formatted shape:\n",
    "display(test_result)"
   ]
  },
  {
   "cell_type": "code",
   "execution_count": null,
   "metadata": {},
   "outputs": [],
   "source": [
    "\"\"\" You can install pingouin also from within Jupyter. \n",
    "    Uncomment and run the following cell ones (and then \n",
    "    comment it again):\n",
    "\"\"\"\n",
    "#import sys\n",
    "#!{sys.executable} -m pip install pingouin"
   ]
  },
  {
   "cell_type": "markdown",
   "metadata": {},
   "source": [
    "## Exercise 1\n",
    "\n",
    "Copy the solution of the _Pandas_ example above into a new script. Extend your script by the following functionalities:\n",
    "    \n",
    "1. Apply the significance test to the `Group_A` and `Group_B` data.\n",
    "2. Write an _if_-statement that checks, whether the _p_-value of the significance test is lower or greater than 0.05. If the _p_-value is lower, then print out \"_there is a significant difference_\" together with the according _p_-value, otherwise print out \"_no significant difference_\" together with the according _p_-value.\n",
    "3. Plug-in the significance check-up into a function, e.g. named `unpaired_two_sample_ttest(...)`."
   ]
  },
  {
   "cell_type": "code",
   "execution_count": 9,
   "metadata": {
    "code_folding": []
   },
   "outputs": [
    {
     "name": "stdout",
     "output_type": "stream",
     "text": [
      "no significant difference (p-value: [0.25092508])\n"
     ]
    }
   ],
   "source": [
    "# Your solution 1.1 and 1.2 here:\n"
   ]
  },
  {
   "cell_type": "markdown",
   "metadata": {},
   "source": [
    "<details>\n",
    "<summary>Toggle solution</summary>\n",
    "\n",
    "```python\n",
    "# Solution 1.1 and 1.2:\n",
    "test_result = pg.ttest(Group_A, Group_B, paired=False)\n",
    "p_value = test_result[\"p-val\"].values\n",
    "\n",
    "if p_value>0.05:\n",
    "    print(f\"no significant difference (p-value: {p_value})\")\n",
    "else:\n",
    "    print(f\"here is a significant difference (p-value: {p_value})\")\n",
    "``` \n",
    "<script src=\"https://gist.github.com/username/a39a422ebdff6e732753b90573100b16.js\"></script>\n",
    "</details>"
   ]
  },
  {
   "cell_type": "code",
   "execution_count": 9,
   "metadata": {},
   "outputs": [
    {
     "data": {
      "image/png": "[encoded data removed]",
      "text/plain": [
       "<Figure size 360x432 with 1 Axes>"
      ]
     },
     "metadata": {
      "needs_background": "light"
     },
     "output_type": "display_data"
    },
    {
     "name": "stdout",
     "output_type": "stream",
     "text": [
      "Group_A vs. Group_B:\n",
      "no significant difference (p-value: [0.25092508])\n"
     ]
    },
    {
     "data": {
      "image/png": "[encoded data removed]",
      "text/plain": [
       "<Figure size 360x432 with 1 Axes>"
      ]
     },
     "metadata": {
      "needs_background": "light"
     },
     "output_type": "display_data"
    },
    {
     "name": "stdout",
     "output_type": "stream",
     "text": [
      "Group_A vs. Group_B2:\n",
      "significant difference (p-value: [0.02157014])\n"
     ]
    }
   ],
   "source": [
    "# Your solution 1.3 here:\n"
   ]
  },
  {
   "cell_type": "markdown",
   "metadata": {},
   "source": [
    "<details>\n",
    "<summary>Toggle solution</summary>\n",
    "\n",
    "```python\n",
    "# Solution 1.3:\n",
    "import pandas as pd\n",
    "import os\n",
    "\n",
    "import numpy as np\n",
    "import matplotlib.pyplot as plt\n",
    "import pingouin as pg\n",
    "\n",
    "# Define file paths:\n",
    "file_path = \"Data/Pandas_1/\"\n",
    "file_name_1 = \"Group_A_data.xls\"\n",
    "file_name_2 = \"Group_B_data.xls\"\n",
    "file_name_3 = \"Group_B2_data.xls\"\n",
    "\n",
    "file_1 = os.path.join(file_path, file_name_1)\n",
    "file_2 = os.path.join(file_path, file_name_2)\n",
    "file_3 = os.path.join(file_path, file_name_3)\n",
    "\n",
    "# Read the Excel files with Pandas into a Pandas Dataframe:\n",
    "Group_A_df = pd.read_excel(file_1, index_col=0)\n",
    "Group_B_df = pd.read_excel(file_2, index_col=0)\n",
    "Group_B2_df= pd.read_excel(file_3, index_col=0)\n",
    "\n",
    "# Broadcast the DataFrame data into the approproate variables:\n",
    "Group_A = Group_A_df[\"Data\"].values\n",
    "Group_B = Group_B_df[\"Data\"].values\n",
    "Group_B2= Group_B2_df[\"Data\"].values\n",
    "\n",
    "\n",
    "# DEFINE PLOT-FUNCTIONS:\n",
    "def plot_violin(A, B, fignum, figaspect, the_title):\n",
    "    fig = plt.figure(fignum, figsize=figaspect)\n",
    "    fig.clf()\n",
    "\n",
    "    x_ticks_A = np.ones(len(A))\n",
    "    x_ticks_B = np.ones(len(B))\n",
    "\n",
    "    plt.violinplot([A, B], showmedians=True)\n",
    "    plt.xticks([1,2], labels=[\"A\", \"B\"])\n",
    "    plt.xlabel(\"Groups\")\n",
    "    plt.ylabel(\"measurements\")\n",
    "    plt.title(the_title)\n",
    "    plt.tight_layout\n",
    "    # plt.ylim(-40, 40)\n",
    "    plt.show()\n",
    "    \n",
    "    \n",
    "# DEFINE SIGNFICANCE-TEST-FUNCTIONS:\n",
    "def unpaired_two_sample_ttest(A, B):\n",
    "    test_result = pg.ttest(A, B, paired=False)\n",
    "    p_value = test_result[\"p-val\"].values\n",
    "    if p_value>0.05:\n",
    "        print(f\"no significant difference (p-value: {p_value})\")\n",
    "    else:\n",
    "        print(f\"significant difference (p-value: {p_value})\")\n",
    "\n",
    "\n",
    "# Our actual analysis:\n",
    "plot_violin(Group_A, Group_B, 7, (5,6), \"Group A and B data\")\n",
    "print(\"Group_A vs. Group_B:\")\n",
    "unpaired_two_sample_ttest(Group_A, Group_B)\n",
    "\n",
    "plot_violin(Group_A, Group_B2, 7, (5,6), \"Group A and B2 data\")\n",
    "print(\"Group_A vs. Group_B2:\")\n",
    "unpaired_two_sample_ttest(Group_A, Group_B2)\n",
    "``` \n",
    "<script src=\"https://gist.github.com/username/a39a422ebdff6e732753b90573100b16.js\"></script>\n",
    "</details>"
   ]
  },
  {
   "cell_type": "code",
   "execution_count": 26,
   "metadata": {
    "scrolled": false
   },
   "outputs": [
    {
     "data": {
      "text/html": [
       "<div>\n",
       "<style scoped>\n",
       "    .dataframe tbody tr th:only-of-type {\n",
       "        vertical-align: middle;\n",
       "    }\n",
       "\n",
       "    .dataframe tbody tr th {\n",
       "        vertical-align: top;\n",
       "    }\n",
       "\n",
       "    .dataframe thead th {\n",
       "        text-align: right;\n",
       "    }\n",
       "</style>\n",
       "<table border=\"1\" class=\"dataframe\">\n",
       "  <thead>\n",
       "    <tr style=\"text-align: right;\">\n",
       "      <th></th>\n",
       "      <th>W</th>\n",
       "      <th>pval</th>\n",
       "      <th>normal</th>\n",
       "    </tr>\n",
       "  </thead>\n",
       "  <tbody>\n",
       "    <tr>\n",
       "      <th>0</th>\n",
       "      <td>0.900276</td>\n",
       "      <td>0.000491</td>\n",
       "      <td>False</td>\n",
       "    </tr>\n",
       "  </tbody>\n",
       "</table>\n",
       "</div>"
      ],
      "text/plain": [
       "          W      pval  normal\n",
       "0  0.900276  0.000491   False"
      ]
     },
     "metadata": {},
     "output_type": "display_data"
    }
   ],
   "source": [
    "norm_A= pg.normality(Group_A)\n",
    "display(norm_A)"
   ]
  },
  {
   "cell_type": "code",
   "execution_count": 30,
   "metadata": {},
   "outputs": [
    {
     "data": {
      "text/plain": [
       "array([False])"
      ]
     },
     "execution_count": 30,
     "metadata": {},
     "output_type": "execute_result"
    }
   ],
   "source": [
    "norm_A[\"normal\"].values"
   ]
  },
  {
   "cell_type": "code",
   "execution_count": 33,
   "metadata": {},
   "outputs": [
    {
     "name": "stdout",
     "output_type": "stream",
     "text": [
      "Group A is not normally distributed\n"
     ]
    },
    {
     "data": {
      "text/html": [
       "<div>\n",
       "<style scoped>\n",
       "    .dataframe tbody tr th:only-of-type {\n",
       "        vertical-align: middle;\n",
       "    }\n",
       "\n",
       "    .dataframe tbody tr th {\n",
       "        vertical-align: top;\n",
       "    }\n",
       "\n",
       "    .dataframe thead th {\n",
       "        text-align: right;\n",
       "    }\n",
       "</style>\n",
       "<table border=\"1\" class=\"dataframe\">\n",
       "  <thead>\n",
       "    <tr style=\"text-align: right;\">\n",
       "      <th></th>\n",
       "      <th>U-val</th>\n",
       "      <th>tail</th>\n",
       "      <th>p-val</th>\n",
       "      <th>RBC</th>\n",
       "      <th>CLES</th>\n",
       "    </tr>\n",
       "  </thead>\n",
       "  <tbody>\n",
       "    <tr>\n",
       "      <th>MWU</th>\n",
       "      <td>1373.5</td>\n",
       "      <td>two-sided</td>\n",
       "      <td>0.39647</td>\n",
       "      <td>-0.0988</td>\n",
       "      <td>0.5494</td>\n",
       "    </tr>\n",
       "  </tbody>\n",
       "</table>\n",
       "</div>"
      ],
      "text/plain": [
       "      U-val       tail    p-val     RBC    CLES\n",
       "MWU  1373.5  two-sided  0.39647 -0.0988  0.5494"
      ]
     },
     "execution_count": 33,
     "metadata": {},
     "output_type": "execute_result"
    }
   ],
   "source": [
    "# You can let Python decide, whether to apply a student's t-test for \n",
    "# normally distributed data or a Mann-Whitney U test for not-normally\n",
    "# distributed data:\n",
    "\n",
    "if norm_A[\"normal\"].values:\n",
    "    print(\"Group A is normally distributed\")\n",
    "    # ttest\n",
    "    test_result = pg.ttest(Group_A, Group_B, paired=False)\n",
    "    test_type=\"ttest\"\n",
    "else:\n",
    "    print(\"Group A is not normally distributed\")\n",
    "    # mwu test\n",
    "    test_result = pg.mwu(Group_A, Group_B)\n",
    "    test_type=\"mwu\" # can be further used e.g. for an \n",
    "                    # additional print-out\n",
    "test_result"
   ]
  },
  {
   "cell_type": "markdown",
   "metadata": {},
   "source": [
    "## Outlook\n",
    "Now imagine, that you have several Excel files to be read and processed. In this case it's highly recommended to plug-in, e.g., the data import and the analysis part into **_for_-loops**, while the imported data have to be plugged into iterable **_NumPy_ Arrays**. Also think about that you have several data project folders and you don't want to look into each of them. In order prevent your routine from crashing, you could implement an **_if_-statement** that checks during the data import, whether files could be imported or not. And, whenever possible, plug-in complex and repetitive calculations and procedures into a **function definition** in order to keep your code readble and to save lines of unnecessary code."
   ]
  }
 ],
 "metadata": {
  "hide_input": false,
  "kernelspec": {
   "display_name": "Python 3 (ipykernel)",
   "language": "python",
   "name": "python3"
  },
  "language_info": {
   "codemirror_mode": {
    "name": "ipython",
    "version": 3
   },
   "file_extension": ".py",
   "mimetype": "text/x-python",
   "name": "python",
   "nbconvert_exporter": "python",
   "pygments_lexer": "ipython3",
   "version": "3.9.5"
  },
  "toc": {
   "base_numbering": 1,
   "nav_menu": {},
   "number_sections": true,
   "sideBar": true,
   "skip_h1_title": true,
   "title_cell": "Statistical Analysis with Pingouin",
   "title_sidebar": "Contents",
   "toc_cell": true,
   "toc_position": {},
   "toc_section_display": true,
   "toc_window_display": false
  }
 },
 "nbformat": 4,
 "nbformat_minor": 4
}
