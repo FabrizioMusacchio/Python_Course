{
 "cells": [
  {
   "cell_type": "markdown",
   "metadata": {
    "toc": true
   },
   "source": [
    "<h1>NumPy, The \"container\" for our data<span class=\"tocSkip\"></span></h1>\n",
    "<div class=\"toc\"><ul class=\"toc-item\"><li><span><a href=\"#Introduction\" data-toc-modified-id=\"Introduction-1\"><span class=\"toc-item-num\">1&nbsp;&nbsp;</span>Introduction</a></span></li><li><span><a href=\"#On-array-dimensionality\" data-toc-modified-id=\"On-array-dimensionality-2\"><span class=\"toc-item-num\">2&nbsp;&nbsp;</span>On array dimensionality</a></span></li><li><span><a href=\"#Useful-helper-functions-for-array-generation\" data-toc-modified-id=\"Useful-helper-functions-for-array-generation-3\"><span class=\"toc-item-num\">3&nbsp;&nbsp;</span>Useful helper functions for array generation</a></span></li><li><span><a href=\"#Indexing-and-slicing\" data-toc-modified-id=\"Indexing-and-slicing-4\"><span class=\"toc-item-num\">4&nbsp;&nbsp;</span>Indexing and slicing</a></span></li><li><span><a href=\"#Exercise-1\" data-toc-modified-id=\"Exercise-1-5\"><span class=\"toc-item-num\">5&nbsp;&nbsp;</span>Exercise 1</a></span></li><li><span><a href=\"#Exercise-2\" data-toc-modified-id=\"Exercise-2-6\"><span class=\"toc-item-num\">6&nbsp;&nbsp;</span>Exercise 2</a></span></li><li><span><a href=\"#Exercise-3\" data-toc-modified-id=\"Exercise-3-7\"><span class=\"toc-item-num\">7&nbsp;&nbsp;</span>Exercise 3</a></span></li><li><span><a href=\"#Shallow-vs.-Deep-Copy\" data-toc-modified-id=\"Shallow-vs.-Deep-Copy-8\"><span class=\"toc-item-num\">8&nbsp;&nbsp;</span>Shallow vs. Deep Copy</a></span></li></ul></div>"
   ]
  },
  {
   "cell_type": "markdown",
   "metadata": {},
   "source": [
    "The evaluation of scientific data, i.e. measurement data, is almost always about the evaluation of **numbers**. This applies, e.g., to LFP time series, patch-clamb recordings or multi-fluorescence images. \n",
    "\n",
    "The mathematical functions of pure _Python_ are limited. Anything beyond basic operations (+, -, /, \\*) has to be programmed by ourselves.  We can of course do that - or: We use one of the many packages where others have already done the work for us. Such a useful package is **NumPy** ([numpy.org/doc/stable/](https://numpy.org/doc/stable/))."
   ]
  },
  {
   "cell_type": "markdown",
   "metadata": {},
   "source": [
    "<figure class=\"image\">\n",
    "  <img src=\"img/NumPy.png\" alt=\"NumPy Logo\" style=\"width: 50%;\">\n",
    "  <figcaption>image source: <a href=\"https://commons.wikimedia.org/wiki/File:NumPy_logo_2020.svg\">commons.wikimedia.org</a>, license: <a href=\"https://creativecommons.org/licenses/by-sa/4.0/deed.en\">CC BY-SA 4.0</a></figcaption>\n",
    "</figure>"
   ]
  },
  {
   "cell_type": "markdown",
   "metadata": {
    "hide_input": false
   },
   "source": [
    "## Introduction\n",
    "Let's have a first look:"
   ]
  },
  {
   "cell_type": "code",
   "execution_count": null,
   "metadata": {
    "scrolled": false
   },
   "outputs": [],
   "source": [
    "import numpy as np\n",
    "\n",
    "# let's create our first NumPy-array:\n",
    "array_1 = np.arange(10) # = np.arange(0,10,1)\n",
    "array_2 = np.array([1, 2, 3])\n",
    "\n",
    "print(f\"array_1: {array_1}\")\n",
    "print(f\"array_2: {array_2}\")"
   ]
  },
  {
   "cell_type": "code",
   "execution_count": null,
   "metadata": {},
   "outputs": [],
   "source": [
    "print(type([1, 2, 3]))\n",
    "print(type(array_2))"
   ]
  },
  {
   "cell_type": "markdown",
   "metadata": {},
   "source": [
    "The `import` command makes all functions within the _NumPy_ package available for our own program. These functions can be called by `np.FUNCTION(...)`, e.g. `np.mean(array_1)`:"
   ]
  },
  {
   "cell_type": "code",
   "execution_count": null,
   "metadata": {},
   "outputs": [],
   "source": [
    "print(f\"np.mean(array_1): {np.mean(array_1)}\")"
   ]
  },
  {
   "cell_type": "markdown",
   "metadata": {},
   "source": [
    "The `np.arange(start,stop,step)` command creates a so-called _NumPy_ array similar to the `range` command, but with the advantage that we can directly access the array (to achieve the same with the `range` command: `list(range(10))`). And we now can create arrays with floating point numbers:"
   ]
  },
  {
   "cell_type": "code",
   "execution_count": null,
   "metadata": {},
   "outputs": [],
   "source": [
    "array_3 = np.arange(0, 5, 0.5)\n",
    "print(f\"array_3: {array_3}\")"
   ]
  },
  {
   "cell_type": "markdown",
   "metadata": {},
   "source": [
    "The `np.array([1, 2, 3])` command converts any given list (or other array-like object) into a _NumPy_ array. "
   ]
  },
  {
   "cell_type": "markdown",
   "metadata": {},
   "source": [
    "One main advantage of a _NumPy_ array is, that one can directly call basic _NumPy_ functions via `array.mean()` instead of `np.mean(array)` (while both is valid):"
   ]
  },
  {
   "cell_type": "code",
   "execution_count": null,
   "metadata": {},
   "outputs": [],
   "source": [
    "print(f\"array_1.mean(): {array_3.mean()}\")"
   ]
  },
  {
   "cell_type": "markdown",
   "metadata": {},
   "source": [
    "Some further examples:"
   ]
  },
  {
   "cell_type": "code",
   "execution_count": null,
   "metadata": {},
   "outputs": [],
   "source": [
    "print(f\"array_1.std(): {array_1.std()}\")\n",
    "print(f\"array_1.max(): {array_1.max()}\")\n",
    "print(f\"array_1.min(): {array_1.min()}\")\n",
    "print(f\"array_1.sum(): {array_1.sum()}\")"
   ]
  },
  {
   "cell_type": "markdown",
   "metadata": {},
   "source": [
    "Not all NumPy functions can be accessed this way:"
   ]
  },
  {
   "cell_type": "code",
   "execution_count": null,
   "metadata": {},
   "outputs": [],
   "source": [
    "print(f\"array_1.median(): {array_1.median()}\")"
   ]
  },
  {
   "cell_type": "code",
   "execution_count": null,
   "metadata": {
    "scrolled": true
   },
   "outputs": [],
   "source": [
    "print(f\"np.median(array_1): {np.median(array_1)}\")"
   ]
  },
  {
   "cell_type": "code",
   "execution_count": null,
   "metadata": {},
   "outputs": [],
   "source": [
    "print(f\"array_1.std(): {array_1.std()}\")\n",
    "print(f\"np.std(array_1): {np.std(array_1)}\")"
   ]
  },
  {
   "cell_type": "markdown",
   "metadata": {},
   "source": [
    "![img/NumPy3.png](img/NumPy3.png)\n",
    "![img/NumPy4.png](img/NumPy4.png)"
   ]
  },
  {
   "cell_type": "markdown",
   "metadata": {},
   "source": [
    "Please, find a broader overview of _NumPy_ functions, e.g., on the [_Datacamp_](https://www.datacamp.com/community/data-science-cheatsheets) [_NumPy cheat sheet_](http://datacamp-community-prod.s3.amazonaws.com/da466534-51fe-4c6d-b0cb-154f4782eb54)."
   ]
  },
  {
   "cell_type": "code",
   "execution_count": null,
   "metadata": {},
   "outputs": [],
   "source": [
    "# the find_nearest function (example):\n",
    "import numpy as np\n",
    "\n",
    "array_8 = np.array([0, 5, 5, 6, 6, 3, 9])\n",
    "\n",
    "def find_nearest(input_array, search_number):\n",
    "    \"\"\"\n",
    "    Simple function to search for the closest\n",
    "    value within a given NumPy array.\n",
    "    \n",
    "    input_array: input array within we search\n",
    "    search_number: integer or floating point \n",
    "                   number to search for in\n",
    "                   input_array\n",
    "    \"\"\"\n",
    "    array = np.asarray(input_array)\n",
    "    idx = (np.abs(array - search_number)).argmin()\n",
    "    return array[idx], idx\n",
    "\n",
    "print(array_8)\n",
    "print(find_nearest(array_8, 5.6))\n",
    "\"\"\" \n",
    "Bear in mind, this function is not bullet-proof:\n",
    "it doesn't return multiple occurrences of the found \n",
    "closest(s) value(s).\n",
    "\"\"\""
   ]
  },
  {
   "cell_type": "markdown",
   "metadata": {},
   "source": [
    "## On array dimensionality"
   ]
  },
  {
   "cell_type": "markdown",
   "metadata": {},
   "source": [
    "One very useful _NumPy_ command is `np.shape(array)` or `array.shape`, which returns the size and the shape (dimensions) of a given _array_:"
   ]
  },
  {
   "cell_type": "code",
   "execution_count": null,
   "metadata": {},
   "outputs": [],
   "source": [
    "print(f\"array_1.shape(): {array_1.shape}\")"
   ]
  },
  {
   "cell_type": "markdown",
   "metadata": {},
   "source": [
    "The output `(10,)` indicated, that `array_1` has only one axis, i.e. it is one-dimensional, with 10 entries on that axis. We can of course create NumPy arrays with higher dimensions:"
   ]
  },
  {
   "cell_type": "code",
   "execution_count": null,
   "metadata": {
    "scrolled": true
   },
   "outputs": [],
   "source": [
    "# 2D array (e.g. an image), by input a list of tuples:\n",
    "array_4 = np.array([(1, 2, 3),\n",
    "                    (4, 5, 6),\n",
    "                    (7, 8, 9), \n",
    "                    (7, 8, 9)]) \n",
    "print(f\"array_4:\")\n",
    "print(array_4)\n",
    "print(f\"array_4.shape(): {array_4.shape}\")"
   ]
  },
  {
   "cell_type": "code",
   "execution_count": null,
   "metadata": {},
   "outputs": [],
   "source": [
    "# What also works, is to input a list of list:\n",
    "array_4 = np.array([[1, 2, 3],\n",
    "                    [4, 5, 6],\n",
    "                    [7, 8, 9], \n",
    "                    [7, 8, 9]])\n",
    "print(f\"array_4:\")\n",
    "print(array_4)\n",
    "print(f\"array_4.shape(): {array_4.shape}\")"
   ]
  },
  {
   "cell_type": "code",
   "execution_count": null,
   "metadata": {},
   "outputs": [],
   "source": [
    "# 3D array (e.g. an image stack):\n",
    "array_5 = np.array([[(1,2,3), (4,5,6)], \n",
    "                    [(3,2,1), (4,5,6)]])\n",
    "print(f\"array_5:\")\n",
    "print(array_5)\n",
    "print(f\"array_5.shape(): {array_5.shape}\")"
   ]
  },
  {
   "cell_type": "markdown",
   "metadata": {},
   "source": [
    "**Visual overview of NumPy array dimensionalities:**"
   ]
  },
  {
   "cell_type": "markdown",
   "metadata": {},
   "source": [
    "<figure class=\"image\">\n",
    "  <img src=\"img/NumPy_dimensions.jpg\" alt=\"NumPy array dimensions\" style=\"width: 100%;\">\n",
    "  <figcaption>Multi-fluorescence image source: <a href=\"https://commons.wikimedia.org/wiki/File:MultiPhotonExcitation-Fig10-doi10.1186slash1475-925X-5-36-clipping.JPEG\">commons.wikimedia.org</a>, license: <a href=\"https://creativecommons.org/licenses/by/2.0/deed.en\">CC BY 2.0</a>; array dimension sketches taken from the <i><a href=\"https://www.datacamp.com/community/data-science-cheatsheets\">Datacamp</a></i> <i><a href=\"http://datacamp-community-prod.s3.amazonaws.com/da466534-51fe-4c6d-b0cb-154f4782eb54\">NumPy cheat sheet.</a></i></figcaption>\n",
    "</figure>"
   ]
  },
  {
   "cell_type": "markdown",
   "metadata": {},
   "source": [
    "## Useful helper functions for array generation\n",
    "_NumPy_ brings some little helper functions to create n-dimensional arrays (sometimes helpful in prototyping and testing your programs or to understand a program):"
   ]
  },
  {
   "cell_type": "code",
   "execution_count": null,
   "metadata": {
    "scrolled": true
   },
   "outputs": [],
   "source": [
    "# let NumPy create some arrays:\n",
    "Z = np.zeros((3,4))\n",
    "print(f\"Z:\")\n",
    "print(Z)"
   ]
  },
  {
   "cell_type": "code",
   "execution_count": null,
   "metadata": {
    "scrolled": true
   },
   "outputs": [],
   "source": [
    "O = np.ones((3,4))\n",
    "print(f\"O:\")\n",
    "print(O)"
   ]
  },
  {
   "cell_type": "code",
   "execution_count": null,
   "metadata": {
    "scrolled": true
   },
   "outputs": [],
   "source": [
    "print(O*7)"
   ]
  },
  {
   "cell_type": "code",
   "execution_count": null,
   "metadata": {},
   "outputs": [],
   "source": [
    "print(O+99)"
   ]
  },
  {
   "cell_type": "code",
   "execution_count": null,
   "metadata": {
    "scrolled": false
   },
   "outputs": [],
   "source": [
    "L = np.linspace((1,21),\n",
    "                (5,25),\n",
    "                 5)\n",
    "\"\"\" creates a 2D array; 1st column ranges from 1 (of (1,11)) \n",
    "    to 5 (of (5,15)), automatically spaced, so that we get\n",
    "    5 (last number in the command) equally spaced increasing\n",
    "    numbers. \"\"\"\n",
    "print(f\"L:\")\n",
    "print(L)"
   ]
  },
  {
   "cell_type": "code",
   "execution_count": null,
   "metadata": {},
   "outputs": [],
   "source": [
    "np.random.seed(1)\n",
    "R = np.random.random((4,3))\n",
    "# Creates some random numbers. The command np.random.seed(1)\n",
    "#  fixes the machine internal random state for reproducibility.\n",
    "print(f\"R:\")\n",
    "print(R)"
   ]
  },
  {
   "cell_type": "markdown",
   "metadata": {},
   "source": [
    "## Indexing and slicing\n",
    "\n",
    "Indexing and slicing of _NumPy_ arrays works similar as for lists:"
   ]
  },
  {
   "cell_type": "code",
   "execution_count": null,
   "metadata": {
    "scrolled": true
   },
   "outputs": [],
   "source": [
    "print(f\"shape of R: {R.shape} (4 rows, 3 columns)\")"
   ]
  },
  {
   "cell_type": "code",
   "execution_count": null,
   "metadata": {},
   "outputs": [],
   "source": [
    "print(f\"R[0,0]:\")\n",
    "print(R[0,0]) # Note, R is 2D and needs therefore two \n",
    "              #    index-values:\n",
    "              #    first: row-index, second: column-index"
   ]
  },
  {
   "cell_type": "code",
   "execution_count": null,
   "metadata": {},
   "outputs": [],
   "source": [
    "print(R[1,0])"
   ]
  },
  {
   "cell_type": "code",
   "execution_count": null,
   "metadata": {
    "scrolled": true
   },
   "outputs": [],
   "source": [
    "print(f\"R[:,0]:\")\n",
    "print(R[:,0])"
   ]
  },
  {
   "cell_type": "code",
   "execution_count": null,
   "metadata": {},
   "outputs": [],
   "source": [
    "print(f\"R[1:4,0]:\")\n",
    "print(R[1:4,0])"
   ]
  },
  {
   "cell_type": "markdown",
   "metadata": {},
   "source": [
    "Also the output of the `shape` command is indexable: "
   ]
  },
  {
   "cell_type": "code",
   "execution_count": null,
   "metadata": {
    "scrolled": true
   },
   "outputs": [],
   "source": [
    "print(f\"R.shape: {R.shape} (4 rows, 3 columns)\")\n",
    "print(f\"R.shape[0]: {R.shape[0]} (4 rows)\")\n",
    "print(f\"R.shape[1]: {R.shape[1]} (3 columns)\")"
   ]
  },
  {
   "cell_type": "markdown",
   "metadata": {},
   "source": [
    "## Exercise 1\n",
    "Write a script, that defines the 2D _NumPy_ array `L` as defined above/as follows:\n",
    "\n",
    "```python\n",
    "L = np.linspace((1,11),\n",
    "                (5,15),\n",
    "                 5)\n",
    "```\n",
    "\n",
    "Iterate `L`\n",
    "\n",
    "* over each row. Calculate and print the average of each row.\n",
    "* over each column. Calculate and print the average of each column."
   ]
  },
  {
   "cell_type": "code",
   "execution_count": null,
   "metadata": {},
   "outputs": [],
   "source": [
    "# Your solution 1 here:\n",
    "L = np.linspace((1,11),\n",
    "                (5,15),\n",
    "                 5)\n",
    "print(L)\n",
    "\n",
    "# averages over rows...\n",
    "\n",
    "# averages over columns...\n"
   ]
  },
  {
   "cell_type": "markdown",
   "metadata": {},
   "source": [
    "<details>\n",
    "<summary><strong>Toggle solution</strong></summary>\n",
    "\n",
    "```python\n",
    "# Solution 1:\n",
    "print(\">>>\")\n",
    "print(\"L:\")\n",
    "print(L)\n",
    "\n",
    "print(\"averages over rows:\")\n",
    "for row in range(L.shape[0]):\n",
    "    print(L[row,:].mean())\n",
    "    \n",
    "print(\"averages over columns:\")\n",
    "for column in range(L.shape[1]):\n",
    "    print(L[:,column].mean())\n",
    "``` \n",
    "<script src=\"https://gist.github.com/username/a39a422ebdff6e732753b90573100b16.js\"></script>\n",
    "</details>"
   ]
  },
  {
   "cell_type": "markdown",
   "metadata": {},
   "source": [
    "## Exercise 2\n",
    "Given the _NumPy_ array `A`, that is defined as follows:\n",
    "    \n",
    "```python\n",
    "A = np.array([np.arange(0,3,1)]*5,dtype='float16')\n",
    "```\n",
    "\n",
    "Write a script that\n",
    "    \n",
    "1. prints out its shape.\n",
    "2. prints out all entries of column 1 and 2, separately and at once.\n",
    "3. overwrites the values of column 1 by the sum of the values of  columns 2 and 3.\n",
    "4. replaces the entry of row 1, column 3 with its exponentiation with the factor 2 (Hint: `x**2`).\n",
    "5. replaces the entry of row 2, column 3 with the square root (`np.sqrt(value)`) of the entry of row 2, column 1.\n",
    "6. prints out all entries with even index values of column 3.\n",
    "7. calculates the average and standard deviation of all entries of column 3."
   ]
  },
  {
   "cell_type": "code",
   "execution_count": null,
   "metadata": {},
   "outputs": [],
   "source": [
    "# Your solution 2.1 here:\n"
   ]
  },
  {
   "cell_type": "markdown",
   "metadata": {},
   "source": [
    "<details>\n",
    "<summary><strong>Toggle solution</strong></summary>\n",
    "\n",
    "```python\n",
    "# Solution 2.1:\n",
    "A = np.array([np.arange(0,3,1)]*5,dtype='float16')\n",
    "print(\">>>\")\n",
    "print(\"A:\")\n",
    "print(A)\n",
    "print(f\"A.shape: {A.shape}\")\n",
    "``` \n",
    "</details>"
   ]
  },
  {
   "cell_type": "code",
   "execution_count": null,
   "metadata": {},
   "outputs": [],
   "source": [
    "# Your solution 2.2 here:\n"
   ]
  },
  {
   "cell_type": "markdown",
   "metadata": {},
   "source": [
    "<details>\n",
    "<summary><strong>Toggle solution</strong></summary>\n",
    "\n",
    "```python\n",
    "# Solution 2.2:\n",
    "print(\">>>\")\n",
    "print(A[:, 0])\n",
    "print(A[:, 1])\n",
    "print(A[:, 0:2])\n",
    "``` \n",
    "</details>"
   ]
  },
  {
   "cell_type": "code",
   "execution_count": null,
   "metadata": {},
   "outputs": [],
   "source": [
    "# Your solution 2.3 here:\n"
   ]
  },
  {
   "cell_type": "markdown",
   "metadata": {},
   "source": [
    "<details>\n",
    "<summary><strong>Toggle solution</strong></summary>\n",
    "\n",
    "```python\n",
    "# Solution 2.3:\n",
    "print(\">>>\")\n",
    "A[:,0] = A[:,1] + A[:,2]\n",
    "print(A)\n",
    "``` \n",
    "</details>"
   ]
  },
  {
   "cell_type": "code",
   "execution_count": null,
   "metadata": {},
   "outputs": [],
   "source": [
    "# Your solution 2.4 and 2.5 here:\n"
   ]
  },
  {
   "cell_type": "markdown",
   "metadata": {},
   "source": [
    "<details>\n",
    "<summary><strong>Toggle solution</strong></summary>\n",
    "\n",
    "```python\n",
    "# Solution 2.4 and 2.5:\n",
    "print(\">>>\")\n",
    "A[0,2] = A[0,2]**2\n",
    "A[1,2] = np.sqrt(A[1,0])\n",
    "print(A[0,2])\n",
    "print(A[1,2])\n",
    "print(A)\n",
    "``` \n",
    "</details>"
   ]
  },
  {
   "cell_type": "code",
   "execution_count": null,
   "metadata": {},
   "outputs": [],
   "source": [
    "# Your solution 2.6 here:\n"
   ]
  },
  {
   "cell_type": "markdown",
   "metadata": {},
   "source": [
    "<details>\n",
    "<summary><strong>Toggle solution</strong></summary>\n",
    "\n",
    "```python\n",
    "# Solution 2.6:\n",
    "print(\">>>\")\n",
    "print(A[0:5:2, 2]) # all entries with even index of column 3\n",
    "``` \n",
    "</details>"
   ]
  },
  {
   "cell_type": "code",
   "execution_count": null,
   "metadata": {},
   "outputs": [],
   "source": [
    "# Your solution 2.7 here:\n"
   ]
  },
  {
   "cell_type": "markdown",
   "metadata": {},
   "source": [
    "<details>\n",
    "<summary><strong>Toggle solution</strong></summary>\n",
    "\n",
    "```python\n",
    "# Solution 2.7:\n",
    "print(\">>>\")\n",
    "print(f\"the result: {A[:,2].mean()} +/- {A[:,2].std()}\")\n",
    "``` \n",
    "</details>"
   ]
  },
  {
   "cell_type": "code",
   "execution_count": null,
   "metadata": {
    "code_folding": []
   },
   "outputs": [],
   "source": [
    "# we can also round the numbers (unfortunateley, my\n",
    "#  Jupyter Notebook produces some error here; in your\n",
    "#  Spyder Editor it should work correctly)\n",
    "#  e.g. round(2.65789, 2) means: round the 2.65789 to a \n",
    "#       number with 2 floating point numbers (here to: 2.66)\n",
    "print(f\"{np.round(A[:,2].mean(), 2)} +/- {np.round(A[:,2].std(),2)}\")\n",
    "print(round(A[:,2].mean(),2))\n",
    "print(np.round(A[:,2].mean(),2))\n",
    "print(f\"{np.round(A[:,2].mean(),2)}\")"
   ]
  },
  {
   "cell_type": "markdown",
   "metadata": {},
   "source": [
    "## Exercise 3\n",
    "\n",
    "1. Generate a _Numpy_ array `time` ranging from 0 to 5 in steps of 0.1.\n",
    "2. Calculate the exponential values $y = e^{time}$ (Hint: `np.exp(array)`).\n",
    "3. Copy your created `y` into another variable called, e.g.,  `y_noisy`.\n",
    "4. Add some noise to `y_noisy` by adding `np.random.randn(len(time))*10`.\n",
    "5. Import the Gaussian 1D filter function from the _scipy ndimage_ package: \n",
    "    ```python\n",
    "       from scipy.ndimage import gaussian_filter1d\n",
    "    ```\n",
    "    \n",
    "    If the `scipy` module is missing, please install it. Please inform yourself about this function on [docs.scipy.org](https://docs.scipy.org/doc/scipy/reference/generated/scipy.ndimage.gaussian_filter1d.html).\n",
    "6. Apply the Gaussian filter to the noisy signal (`gaussian_filter1d(y_noisy, sigma)`) \n",
    "    1. with `sigma = 3`\n",
    "    2. with `sigma = 6`\n",
    "\n",
    "  (again, save your results into new variables, e.g., `y_denoised_3` and `y_denoised_6`)"
   ]
  },
  {
   "cell_type": "code",
   "execution_count": null,
   "metadata": {},
   "outputs": [],
   "source": [
    "# Your solution 3 here:\n"
   ]
  },
  {
   "cell_type": "markdown",
   "metadata": {},
   "source": [
    "<details>\n",
    "<summary><strong>Toggle solution</strong></summary>\n",
    "\n",
    "```python\n",
    "# Solution 3:\n",
    "import numpy as np\n",
    "from scipy.ndimage import gaussian_filter1d\n",
    "\n",
    "# create data arrays:\n",
    "time = np.arange(0,5, 0.1)\n",
    "y = np.exp(time)\n",
    "\n",
    "# add some noise:\n",
    "y_noisy = y.copy()\n",
    "y_noisy = y_noisy  + np.random.randn(len(time))*10\n",
    "\n",
    "# apply filters:\n",
    "y_denoised_3 = gaussian_filter1d(y_noisy, 3)\n",
    "y_denoised_6 = gaussian_filter1d(y_noisy, 6)\n",
    "``` \n",
    "</details>"
   ]
  },
  {
   "cell_type": "markdown",
   "metadata": {},
   "source": [
    "## Shallow vs. Deep Copy\n",
    "\n",
    "Also for _NumPy_ arrays account the shallow and deep copy rules:"
   ]
  },
  {
   "cell_type": "code",
   "execution_count": null,
   "metadata": {},
   "outputs": [],
   "source": [
    "# shallow copy only:\n",
    "array_1 = np.arange(0,3,1)  # create the first array_1\n",
    "array_2 = array_1           # create another array by\n",
    "                            # shallow copying array_1\n",
    "\n",
    "print(\"array_2 after shallow copying array_1:\")\n",
    "print(\"array_1:\", array_1, \"array_2:\", array_2) "
   ]
  },
  {
   "cell_type": "code",
   "execution_count": null,
   "metadata": {},
   "outputs": [],
   "source": [
    "# modify the shallow copy:\n",
    "array_2[1] = -7\n",
    "\n",
    "print(\"array_2 modified after shallow copying array_1:\")\n",
    "print('array_1:', array_1, 'array_2:', array_2)"
   ]
  },
  {
   "cell_type": "markdown",
   "metadata": {},
   "source": [
    "Note, that also `array_1` has been modified, too!"
   ]
  },
  {
   "cell_type": "code",
   "execution_count": null,
   "metadata": {},
   "outputs": [],
   "source": [
    "# deep copy:\n",
    "array_2 = array_1.copy()  # deep copy in NumPy\n",
    "array_2[1] = 20\n",
    "\n",
    "print(\"array_2 modified after deep copying array_1:\")\n",
    "print('array_1:', array_1, 'array_2:', array_2)"
   ]
  },
  {
   "cell_type": "markdown",
   "metadata": {},
   "source": [
    "A deep copy with _NumPy_ can be achieved via the following commands:\n",
    "\n",
    "- `array.copy()`\n",
    "- `np.copy(array)`"
   ]
  }
 ],
 "metadata": {
  "hide_input": false,
  "kernelspec": {
   "display_name": "Python 3",
   "language": "python",
   "name": "python3"
  },
  "language_info": {
   "codemirror_mode": {
    "name": "ipython",
    "version": 3
   },
   "file_extension": ".py",
   "mimetype": "text/x-python",
   "name": "python",
   "nbconvert_exporter": "python",
   "pygments_lexer": "ipython3",
   "version": "3.8.16 | packaged by conda-forge | (default, Feb  1 2023, 16:05:36) \n[Clang 14.0.6 ]"
  },
  "toc": {
   "base_numbering": 1,
   "nav_menu": {},
   "number_sections": true,
   "sideBar": true,
   "skip_h1_title": true,
   "title_cell": "NumPy, The \"container\" for our data",
   "title_sidebar": "Contents",
   "toc_cell": true,
   "toc_position": {},
   "toc_section_display": true,
   "toc_window_display": false
  },
  "varInspector": {
   "cols": {
    "lenName": 16,
    "lenType": 16,
    "lenVar": 40
   },
   "kernels_config": {
    "python": {
     "delete_cmd_postfix": "",
     "delete_cmd_prefix": "del ",
     "library": "var_list.py",
     "varRefreshCmd": "print(var_dic_list())"
    },
    "r": {
     "delete_cmd_postfix": ") ",
     "delete_cmd_prefix": "rm(",
     "library": "var_list.r",
     "varRefreshCmd": "cat(var_dic_list()) "
    }
   },
   "types_to_exclude": [
    "module",
    "function",
    "builtin_function_or_method",
    "instance",
    "_Feature"
   ],
   "window_display": false
  },
  "vscode": {
   "interpreter": {
    "hash": "4dbe93ddc4bed5499d29720f38f7446a34b15f2f3201b881b9bf1c1a4baa393f"
   }
  }
 },
 "nbformat": 4,
 "nbformat_minor": 4
}
